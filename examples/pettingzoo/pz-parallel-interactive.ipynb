{
 "cells": [
  {
   "cell_type": "code",
   "execution_count": 3,
   "id": "initial_id",
   "metadata": {
    "ExecuteTime": {
     "end_time": "2024-01-15T20:53:56.772459Z",
     "start_time": "2024-01-15T20:53:56.368460Z"
    }
   },
   "outputs": [],
   "source": [
    "import datetime\n",
    "\n",
    "\n",
    "from cogment_lab.actors import RandomActor, ConstantActor\n",
    "from cogment_lab.envs.pettingzoo import ParallelEnvironment\n",
    "from cogment_lab.process_manager import Cogment\n",
    "from cogment_lab.utils.runners import process_cleanup\n"
   ]
  },
  {
   "cell_type": "code",
   "execution_count": 4,
   "outputs": [
    {
     "name": "stdout",
     "output_type": "stream",
     "text": [
      "Processes terminated successfully.\n"
     ]
    }
   ],
   "source": [
    "# Cleans up potentially hanging background processes from previous runs\n",
    "process_cleanup()"
   ],
   "metadata": {
    "collapsed": false,
    "ExecuteTime": {
     "end_time": "2024-01-15T20:53:56.840328Z",
     "start_time": "2024-01-15T20:53:56.773095Z"
    }
   },
   "id": "d431ab6f9d8d29cb"
  },
  {
   "cell_type": "code",
   "execution_count": 5,
   "id": "2658232039e652c3",
   "metadata": {
    "collapsed": false,
    "ExecuteTime": {
     "end_time": "2024-01-15T20:53:56.844588Z",
     "start_time": "2024-01-15T20:53:56.841026Z"
    }
   },
   "outputs": [
    {
     "name": "stdout",
     "output_type": "stream",
     "text": [
      "logs/logs-2024-01-15T21:53:56.839732\n"
     ]
    }
   ],
   "source": [
    "logpath = f\"logs/logs-{datetime.datetime.now().isoformat()}\"\n",
    "\n",
    "cog = Cogment(log_dir=logpath)\n",
    "\n",
    "print(logpath)"
   ]
  },
  {
   "cell_type": "code",
   "execution_count": 6,
   "id": "a074d1b3-b399-4e34-a68b-e86adb20caee",
   "metadata": {
    "collapsed": false,
    "ExecuteTime": {
     "end_time": "2024-01-15T20:53:57.824755Z",
     "start_time": "2024-01-15T20:53:57.007830Z"
    }
   },
   "outputs": [
    {
     "data": {
      "text/plain": "True"
     },
     "execution_count": 6,
     "metadata": {},
     "output_type": "execute_result"
    }
   ],
   "source": [
    "# Launch an environment in a subprocess\n",
    "\n",
    "cenv = ParallelEnvironment(env_path=\"pettingzoo.butterfly.cooperative_pong_v5.parallel_env\",\n",
    "                      render=True)\n",
    "\n",
    "await cog.run_env(env=cenv, \n",
    "                  env_name=\"pong\",\n",
    "                  port=9011, \n",
    "                  log_file=\"env.log\")\n"
   ]
  },
  {
   "cell_type": "code",
   "execution_count": 7,
   "id": "3374d134b845beb2",
   "metadata": {
    "collapsed": false,
    "ExecuteTime": {
     "end_time": "2024-01-15T20:53:58.771737Z",
     "start_time": "2024-01-15T20:53:57.822248Z"
    }
   },
   "outputs": [
    {
     "data": {
      "text/plain": "True"
     },
     "execution_count": 7,
     "metadata": {},
     "output_type": "execute_result"
    }
   ],
   "source": [
    "# Launch two dummy actors in subprocesses\n",
    "\n",
    "random_actor = RandomActor(cenv.env.action_space(\"paddle_0\"))\n",
    "constant_actor = ConstantActor(1)\n",
    "\n",
    "await cog.run_actor(actor=random_actor, \n",
    "                    actor_name=\"random\", \n",
    "                    port=9021, \n",
    "                    log_file=\"actor-random.log\")\n",
    "\n",
    "await cog.run_actor(actor=constant_actor,\n",
    "                    actor_name=\"constant\",\n",
    "                    port=9022,\n",
    "                    log_file=\"actor-constant.log\")\n"
   ]
  },
  {
   "cell_type": "code",
   "execution_count": 8,
   "outputs": [
    {
     "data": {
      "text/plain": "{'pong': <SpawnProcess name='SpawnProcess-1' pid=54386 parent=54362 started>,\n 'random': <SpawnProcess name='SpawnProcess-2' pid=54391 parent=54362 started>,\n 'constant': <SpawnProcess name='SpawnProcess-3' pid=54394 parent=54362 started>}"
     },
     "execution_count": 8,
     "metadata": {},
     "output_type": "execute_result"
    }
   ],
   "source": [
    "# Check what's running\n",
    "\n",
    "cog.processes"
   ],
   "metadata": {
    "collapsed": false,
    "ExecuteTime": {
     "end_time": "2024-01-15T20:53:58.773901Z",
     "start_time": "2024-01-15T20:53:58.771546Z"
    }
   },
   "id": "896164c911313b40"
  },
  {
   "cell_type": "code",
   "execution_count": 11,
   "id": "835c4d6ecb2afb23",
   "metadata": {
    "collapsed": false,
    "ExecuteTime": {
     "end_time": "2024-01-15T20:48:09.979970Z",
     "start_time": "2024-01-15T20:48:09.351179Z"
    }
   },
   "outputs": [
    {
     "data": {
      "text/plain": "True"
     },
     "execution_count": 11,
     "metadata": {},
     "output_type": "execute_result"
    }
   ],
   "source": [
    "PONG_ACTIONS = [\"no-op\", \"ArrowUp\", \"ArrowDown\"]\n",
    "\n",
    "actions = PONG_ACTIONS\n",
    "await cog.run_web_ui(actions=actions, log_file=\"human.log\", fps=60)"
   ]
  },
  {
   "cell_type": "code",
   "execution_count": 9,
   "outputs": [],
   "source": [
    "# Get data from a random + random trial\n",
    "# You can change the values in `actor_impls` between `web_ui`, `random`, and `constant` to see the different behaviors\n",
    "\n",
    "trial_id = await cog.start_trial(\n",
    "    env_name=\"pong\",\n",
    "    session_config={\"render\": True},\n",
    "    actor_impls={\n",
    "        \"paddle_0\": \"random\",\n",
    "        \"paddle_1\": \"constant\",\n",
    "    },\n",
    ")\n",
    "\n",
    "data = await cog.get_trial_data(trial_id)\n"
   ],
   "metadata": {
    "collapsed": false,
    "ExecuteTime": {
     "end_time": "2024-01-15T20:54:09.441520Z",
     "start_time": "2024-01-15T20:54:07.117269Z"
    }
   },
   "id": "b4854b1295d75e9d"
  },
  {
   "cell_type": "code",
   "execution_count": 10,
   "outputs": [
    {
     "data": {
      "text/plain": "array([2, 2, 2, 2, 1, 0, 2, 1, 0, 1, 0, 2, 1, 1, 0, 1, 1, 2, 1, 1, 1, 0,\n       1, 2])"
     },
     "execution_count": 10,
     "metadata": {},
     "output_type": "execute_result"
    }
   ],
   "source": [
    "data[\"paddle_0\"].actions"
   ],
   "metadata": {
    "collapsed": false,
    "ExecuteTime": {
     "end_time": "2024-01-15T20:54:09.652354Z",
     "start_time": "2024-01-15T20:54:09.649361Z"
    }
   },
   "id": "1800cbfeca577ec8"
  }
 ],
 "metadata": {
  "kernelspec": {
   "display_name": "Python 3 (ipykernel)",
   "language": "python",
   "name": "python3"
  },
  "language_info": {
   "codemirror_mode": {
    "name": "ipython",
    "version": 3
   },
   "file_extension": ".py",
   "mimetype": "text/x-python",
   "name": "python",
   "nbconvert_exporter": "python",
   "pygments_lexer": "ipython3",
   "version": "3.10.0"
  }
 },
 "nbformat": 4,
 "nbformat_minor": 5
}
