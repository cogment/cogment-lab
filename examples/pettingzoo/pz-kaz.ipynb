{
 "cells": [
  {
   "cell_type": "code",
   "execution_count": 1,
   "id": "initial_id",
   "metadata": {
    "ExecuteTime": {
     "end_time": "2023-12-13T21:21:42.488660Z",
     "start_time": "2023-12-13T21:21:40.354720Z"
    }
   },
   "outputs": [],
   "source": [
    "import datetime\n",
    "\n",
    "\n",
    "from cogment_lab.actors import RandomActor, ConstantActor\n",
    "from cogment_lab.envs.pettingzoo import AECEnvironment\n",
    "from cogment_lab.process_manager import Cogment\n",
    "from cogment_lab.utils.runners import process_cleanup\n"
   ]
  },
  {
   "cell_type": "code",
   "execution_count": 2,
   "outputs": [
    {
     "name": "stdout",
     "output_type": "stream",
     "text": [
      "Processes terminated successfully.\n"
     ]
    }
   ],
   "source": [
    "# Cleans up potentially hanging background processes from previous runs\n",
    "process_cleanup()"
   ],
   "metadata": {
    "collapsed": false,
    "ExecuteTime": {
     "end_time": "2023-12-13T21:21:46.747801Z",
     "start_time": "2023-12-13T21:21:46.684053Z"
    }
   },
   "id": "d431ab6f9d8d29cb"
  },
  {
   "cell_type": "code",
   "execution_count": 3,
   "id": "2658232039e652c3",
   "metadata": {
    "collapsed": false,
    "ExecuteTime": {
     "end_time": "2023-12-13T21:21:48.556919Z",
     "start_time": "2023-12-13T21:21:48.549677Z"
    }
   },
   "outputs": [
    {
     "name": "stdout",
     "output_type": "stream",
     "text": [
      "logs/logs-2023-12-13T22:21:48.548102\n"
     ]
    },
    {
     "name": "stderr",
     "output_type": "stream",
     "text": [
      "/Users/ariel/PycharmProjects/cogment_lab/venv/lib/python3.10/site-packages/cogment/context.py:213: UserWarning: No logging handler defined (e.g. logging.basicConfig)\n",
      "  warnings.warn(\"No logging handler defined (e.g. logging.basicConfig)\")\n"
     ]
    }
   ],
   "source": [
    "logpath = f\"logs/logs-{datetime.datetime.now().isoformat()}\"\n",
    "\n",
    "cog = Cogment(log_dir=logpath)\n",
    "\n",
    "print(logpath)"
   ]
  },
  {
   "cell_type": "code",
   "execution_count": 4,
   "id": "a074d1b3-b399-4e34-a68b-e86adb20caee",
   "metadata": {
    "collapsed": false,
    "ExecuteTime": {
     "end_time": "2023-12-13T21:21:54.881072Z",
     "start_time": "2023-12-13T21:21:51.714545Z"
    }
   },
   "outputs": [
    {
     "data": {
      "text/plain": "True"
     },
     "execution_count": 4,
     "metadata": {},
     "output_type": "execute_result"
    }
   ],
   "source": [
    "# Launch an environment in a subprocess\n",
    "\n",
    "cenv = AECEnvironment(env_path=\"pettingzoo.butterfly.knights_archers_zombies_v10.env\",\n",
    "                      render=True)\n",
    "\n",
    "await cog.run_env(env=cenv, \n",
    "                  env_name=\"kaz\",\n",
    "                  port=9001, \n",
    "                  log_file=\"env.log\")\n"
   ]
  },
  {
   "cell_type": "code",
   "execution_count": 5,
   "id": "3374d134b845beb2",
   "metadata": {
    "collapsed": false,
    "ExecuteTime": {
     "end_time": "2023-12-13T21:22:06.145915Z",
     "start_time": "2023-12-13T21:22:01.760364Z"
    }
   },
   "outputs": [
    {
     "data": {
      "text/plain": "True"
     },
     "execution_count": 5,
     "metadata": {},
     "output_type": "execute_result"
    }
   ],
   "source": [
    "# Launch two dummy actors in subprocesses\n",
    "\n",
    "random_actor = RandomActor(cenv.env.action_space(\"knight_0\"))\n",
    "constant_actor = ConstantActor(5)\n",
    "\n",
    "await cog.run_actor(actor=random_actor, \n",
    "                    actor_name=\"random\", \n",
    "                    port=9021, \n",
    "                    log_file=\"actor-random.log\")\n",
    "\n",
    "await cog.run_actor(actor=constant_actor,\n",
    "                    actor_name=\"constant\",\n",
    "                    port=9022,\n",
    "                    log_file=\"actor-constant.log\")\n"
   ]
  },
  {
   "cell_type": "code",
   "execution_count": 6,
   "outputs": [
    {
     "data": {
      "text/plain": "{'kaz': <SpawnProcess name='SpawnProcess-1' pid=19578 parent=19541 started>,\n 'random': <SpawnProcess name='SpawnProcess-2' pid=19579 parent=19541 started>,\n 'constant': <SpawnProcess name='SpawnProcess-3' pid=19582 parent=19541 started>}"
     },
     "execution_count": 6,
     "metadata": {},
     "output_type": "execute_result"
    }
   ],
   "source": [
    "# Check what's running\n",
    "cog.processes"
   ],
   "metadata": {
    "collapsed": false,
    "ExecuteTime": {
     "end_time": "2023-12-13T21:22:23.177880Z",
     "start_time": "2023-12-13T21:22:23.174452Z"
    }
   },
   "id": "896164c911313b40"
  },
  {
   "cell_type": "code",
   "execution_count": 7,
   "id": "835c4d6ecb2afb23",
   "metadata": {
    "collapsed": false,
    "ExecuteTime": {
     "end_time": "2023-12-13T21:22:39.092581Z",
     "start_time": "2023-12-13T21:22:36.945998Z"
    }
   },
   "outputs": [
    {
     "data": {
      "text/plain": "True"
     },
     "execution_count": 7,
     "metadata": {},
     "output_type": "execute_result"
    }
   ],
   "source": [
    "PONG_ACTIONS = [\"ArrowUp\", \"ArrowDown\", \"ArrowLeft\", \"ArrowRight\", \"f\", \"no-op\"]\n",
    "\n",
    "actions = PONG_ACTIONS\n",
    "await cog.run_web_ui(actions=actions, log_file=\"human.log\", fps=60*4)"
   ]
  },
  {
   "cell_type": "code",
   "execution_count": 9,
   "outputs": [],
   "source": [
    "# Get data from a random + random trial\n",
    "# You can change the values in `actor_impls` between `web_ui`, `random`, and `constant` to see the different behaviors\n",
    "\n",
    "trial_id = await cog.start_trial(\n",
    "    env_name=\"kaz\",\n",
    "    session_config={\"render\": True},\n",
    "    actor_impls={\n",
    "        \"knight_0\": \"random\",\n",
    "        \"knight_1\": \"random\",\n",
    "        \"archer_0\": \"web_ui\",\n",
    "        \"archer_1\": \"random\",\n",
    "    },\n",
    ")"
   ],
   "metadata": {
    "collapsed": false,
    "ExecuteTime": {
     "end_time": "2023-12-13T21:22:48.142771Z",
     "start_time": "2023-12-13T21:22:48.129780Z"
    }
   },
   "id": "e41e4ba2ff066f5c"
  },
  {
   "cell_type": "code",
   "execution_count": 10,
   "outputs": [],
   "source": [
    "\n",
    "data = await cog.get_trial_data(trial_id)\n"
   ],
   "metadata": {
    "collapsed": false,
    "ExecuteTime": {
     "end_time": "2023-12-13T21:23:46.501926Z",
     "start_time": "2023-12-13T21:22:53.704091Z"
    }
   },
   "id": "8052ff03998b0b52"
  },
  {
   "cell_type": "code",
   "execution_count": 15,
   "outputs": [
    {
     "data": {
      "text/plain": "array([4, 0, 2, 4, 3, 2, 3, 2, 5, 2, 0, 5, 0, 0, 1, 2, 4, 3, 2, 5, 4, 5,\n       3, 1, 5, 0, 2, 4, 5, 0, 4, 1, 2, 5, 5, 0, 1, 5, 0, 2, 5, 4, 3, 4,\n       2, 2, 2, 1, 2, 2, 4, 0, 2, 3, 2, 4, 2, 1, 3, 5, 1, 4, 0, 4, 5, 1,\n       5, 4, 3, 4, 1, 5, 0, 4, 4, 2, 0, 5, 2, 5, 2, 2, 4, 3, 4, 3, 2, 0,\n       3, 0, 4, 3, 3, 3, 1, 0, 1, 0, 0, 1, 3, 3, 2, 1, 1, 3, 2, 3, 1, 5,\n       5, 3, 4, 5, 5, 3, 0, 0, 5, 5, 4, 2, 3, 2, 2, 5, 0, 5, 0, 0, 3, 3,\n       3, 5, 3, 4, 3, 2, 0, 0, 0, 4, 1, 1, 1, 0, 1, 0, 2, 5, 0, 4, 5, 0,\n       3, 0, 4, 1, 1, 2, 2, 0, 5, 0, 0, 0, 1, 5, 4, 0, 0, 5, 2, 0, 1, 5,\n       3, 2, 3, 5, 4, 0])"
     },
     "execution_count": 15,
     "metadata": {},
     "output_type": "execute_result"
    }
   ],
   "source": [
    "data[\"knight_0\"].actions"
   ],
   "metadata": {
    "collapsed": false,
    "ExecuteTime": {
     "end_time": "2023-12-08T16:45:25.290174Z",
     "start_time": "2023-12-08T16:45:25.287374Z"
    }
   },
   "id": "1800cbfeca577ec8"
  }
 ],
 "metadata": {
  "kernelspec": {
   "display_name": "Python 3 (ipykernel)",
   "language": "python",
   "name": "python3"
  },
  "language_info": {
   "codemirror_mode": {
    "name": "ipython",
    "version": 3
   },
   "file_extension": ".py",
   "mimetype": "text/x-python",
   "name": "python",
   "nbconvert_exporter": "python",
   "pygments_lexer": "ipython3",
   "version": "3.10.0"
  }
 },
 "nbformat": 4,
 "nbformat_minor": 5
}
