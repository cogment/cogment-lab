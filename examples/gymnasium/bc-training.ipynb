{
 "cells": [
  {
   "cell_type": "code",
   "execution_count": 1,
   "id": "initial_id",
   "metadata": {
    "ExecuteTime": {
     "end_time": "2023-12-13T17:26:58.848013Z",
     "start_time": "2023-12-13T17:26:56.922017Z"
    }
   },
   "outputs": [],
   "source": [
    "import datetime\n",
    "\n",
    "import matplotlib.pyplot as plt\n",
    "import numpy as np\n",
    "import torch\n",
    "import torch.nn.functional as F\n",
    "from coltra import HomogeneousGroup\n",
    "from coltra.buffers import Observation\n",
    "from coltra.models import MLPModel\n",
    "from coltra.policy_optimization import CrowdPPOptimizer\n",
    "from tqdm import trange\n",
    "\n",
    "from cogment_lab.actors import ColtraActor\n",
    "from cogment_lab.envs.gymnasium import GymEnvironment\n",
    "from cogment_lab.process_manager import Cogment\n",
    "from cogment_lab.utils.coltra_utils import convert_trial_data_to_coltra\n",
    "from cogment_lab.utils.runners import process_cleanup\n",
    "from cogment_lab.utils.trial_utils import concatenate\n"
   ]
  },
  {
   "cell_type": "code",
   "execution_count": 2,
   "outputs": [
    {
     "name": "stdout",
     "output_type": "stream",
     "text": [
      "Processes terminated successfully.\n"
     ]
    }
   ],
   "source": [
    "# Cleans up potentially hanging background processes from previous runs\n",
    "process_cleanup()"
   ],
   "metadata": {
    "collapsed": false,
    "ExecuteTime": {
     "end_time": "2023-12-13T17:26:58.911299Z",
     "start_time": "2023-12-13T17:26:58.848302Z"
    }
   },
   "id": "d431ab6f9d8d29cb"
  },
  {
   "cell_type": "code",
   "execution_count": 3,
   "id": "2658232039e652c3",
   "metadata": {
    "collapsed": false,
    "ExecuteTime": {
     "end_time": "2023-12-13T17:26:59.807004Z",
     "start_time": "2023-12-13T17:26:59.288309Z"
    }
   },
   "outputs": [
    {
     "name": "stdout",
     "output_type": "stream",
     "text": [
      "logs/logs-2023-12-13T18:26:59.286916\n"
     ]
    },
    {
     "name": "stderr",
     "output_type": "stream",
     "text": [
      "/Users/ariel/PycharmProjects/cogment_lab/venv/lib/python3.10/site-packages/cogment/context.py:213: UserWarning: No logging handler defined (e.g. logging.basicConfig)\n",
      "  warnings.warn(\"No logging handler defined (e.g. logging.basicConfig)\")\n"
     ]
    }
   ],
   "source": [
    "logpath = f\"logs/logs-{datetime.datetime.now().isoformat()}\"\n",
    "\n",
    "cog = Cogment(log_dir=logpath)\n",
    "\n",
    "print(logpath)"
   ]
  },
  {
   "cell_type": "code",
   "execution_count": 4,
   "id": "a074d1b3-b399-4e34-a68b-e86adb20caee",
   "metadata": {
    "collapsed": false,
    "ExecuteTime": {
     "end_time": "2023-12-13T17:27:03.568016Z",
     "start_time": "2023-12-13T17:27:01.302459Z"
    }
   },
   "outputs": [
    {
     "data": {
      "text/plain": "True"
     },
     "execution_count": 4,
     "metadata": {},
     "output_type": "execute_result"
    }
   ],
   "source": [
    "# We'll train on \n",
    "\n",
    "cenv = GymEnvironment(\n",
    "    env_id=\"MountainCar-v0\",\n",
    "    render=True,\n",
    "    make_kwargs={\"max_episode_steps\": 401},\n",
    ")\n",
    "\n",
    "await cog.run_env(env=cenv, \n",
    "                  env_name=\"mcar\",\n",
    "                  port=9011, \n",
    "                  log_file=\"env.log\")\n"
   ]
  },
  {
   "cell_type": "code",
   "execution_count": 5,
   "id": "3374d134b845beb2",
   "metadata": {
    "collapsed": false,
    "ExecuteTime": {
     "end_time": "2023-12-13T17:27:07.411552Z",
     "start_time": "2023-12-13T17:27:05.008940Z"
    }
   },
   "outputs": [
    {
     "data": {
      "text/plain": "True"
     },
     "execution_count": 5,
     "metadata": {},
     "output_type": "execute_result"
    }
   ],
   "source": [
    "# Create a model using coltra\n",
    "\n",
    "model = MLPModel(\n",
    "    config={\n",
    "        \"hidden_sizes\": [64, 64],\n",
    "    }, \n",
    "    observation_space=cenv.env.observation_space, \n",
    "    action_space=cenv.env.action_space\n",
    ")\n",
    "\n",
    "# Put the model in shared memory so that the actor can access it\n",
    "model.share_memory()\n",
    "actor = ColtraActor(model=model)\n",
    "\n",
    "\n",
    "await cog.run_actor(\n",
    "    actor=actor,\n",
    "    actor_name=\"coltra\",\n",
    "    port=9021,\n",
    "    log_file=\"actor.log\"\n",
    ")"
   ]
  },
  {
   "cell_type": "code",
   "execution_count": 6,
   "outputs": [
    {
     "data": {
      "text/plain": "{'mcar': <SpawnProcess name='SpawnProcess-1' pid=16343 parent=16325 started>,\n 'coltra': <SpawnProcess name='SpawnProcess-2' pid=16348 parent=16325 started>}"
     },
     "execution_count": 6,
     "metadata": {},
     "output_type": "execute_result"
    }
   ],
   "source": [
    "# Check what's running\n",
    "\n",
    "cog.processes"
   ],
   "metadata": {
    "collapsed": false,
    "ExecuteTime": {
     "end_time": "2023-12-13T17:27:09.742973Z",
     "start_time": "2023-12-13T17:27:09.738867Z"
    }
   },
   "id": "896164c911313b40"
  },
  {
   "cell_type": "code",
   "execution_count": 7,
   "id": "835c4d6ecb2afb23",
   "metadata": {
    "collapsed": false,
    "ExecuteTime": {
     "end_time": "2023-12-13T17:27:15.628829Z",
     "start_time": "2023-12-13T17:27:13.486915Z"
    }
   },
   "outputs": [
    {
     "data": {
      "text/plain": "True"
     },
     "execution_count": 7,
     "metadata": {},
     "output_type": "execute_result"
    }
   ],
   "source": [
    "MOUNTAIN_CAR_ACTIONS = [\"no-op\", \"ArrowLeft\", \"ArrowRight\"]\n",
    "\n",
    "actions = MOUNTAIN_CAR_ACTIONS\n",
    "\n",
    "await cog.run_web_ui(actions=actions, log_file=\"human.log\", fps=30)"
   ]
  },
  {
   "cell_type": "code",
   "execution_count": 9,
   "outputs": [
    {
     "name": "stderr",
     "output_type": "stream",
     "text": [
      "100%|██████████| 10/10 [00:04<00:00,  2.18it/s]"
     ]
    },
    {
     "name": "stdout",
     "output_type": "stream",
     "text": [
      "mean_reward: -400.1\n"
     ]
    },
    {
     "name": "stderr",
     "output_type": "stream",
     "text": [
      "\n"
     ]
    }
   ],
   "source": [
    "# Estimate random agent performance\n",
    "\n",
    "episodes = []\n",
    "for i in trange(10):\n",
    "    trial_id = await cog.start_trial(\n",
    "        env_name=\"mcar\",\n",
    "        session_config={\"render\": False},\n",
    "        actor_impls={\n",
    "            \"gym\": \"coltra\",\n",
    "        },\n",
    "    )\n",
    "    multi_data = await cog.get_trial_data(trial_id=trial_id)\n",
    "    data = multi_data[\"gym\"]\n",
    "    episodes.append(data)\n",
    "mean_reward = np.mean([sum(e.rewards) for e in episodes])\n",
    "print(f\"mean_reward: {mean_reward}\")"
   ],
   "metadata": {
    "collapsed": false,
    "ExecuteTime": {
     "end_time": "2023-12-13T17:27:27.047222Z",
     "start_time": "2023-12-13T17:27:22.445172Z"
    }
   },
   "id": "b7cde51d7dc0c3a9"
  },
  {
   "cell_type": "code",
   "execution_count": 11,
   "outputs": [
    {
     "name": "stderr",
     "output_type": "stream",
     "text": [
      "mean_reward: -4e+02: 100%|██████████| 10/10 [00:14<00:00,  1.47s/it]\n"
     ]
    }
   ],
   "source": [
    "# Train for a bit with PPO\n",
    "\n",
    "ppo = CrowdPPOptimizer(HomogeneousGroup(actor.agent), config={\n",
    "    \"gae_lambda\": 0.95,\n",
    "    \"minibatch_size\": 128,\n",
    "})\n",
    "\n",
    "all_rewards = []\n",
    "\n",
    "for t in (pbar := trange(10)):\n",
    "    num_steps = 0\n",
    "    episodes = []\n",
    "    while num_steps < 1000:\n",
    "        trial_id = await cog.start_trial(\n",
    "            env_name=\"mcar\",\n",
    "            session_config={\"render\": False},\n",
    "            actor_impls={\n",
    "                \"gym\": \"coltra\",\n",
    "            },\n",
    "        )\n",
    "        multi_data = await cog.get_trial_data(trial_id=trial_id, env_name=\"mcar\")\n",
    "        data = multi_data[\"gym\"]\n",
    "        episodes.append(data)\n",
    "        num_steps += len(data.rewards)\n",
    "        \n",
    "    all_data = concatenate(episodes)\n",
    "    \n",
    "    record = convert_trial_data_to_coltra(all_data, actor.agent)\n",
    "    metrics = ppo.train_on_data({\"crowd\": record}, shape=(1,) + record.reward.shape)\n",
    "    \n",
    "    mean_reward = metrics[\"crowd/mean_episode_reward\"]\n",
    "    all_rewards.append(mean_reward)\n",
    "    pbar.set_description(f\"mean_reward: {mean_reward:.3}\")\n",
    "        \n"
   ],
   "metadata": {
    "collapsed": false,
    "ExecuteTime": {
     "end_time": "2023-12-13T17:27:55.773514Z",
     "start_time": "2023-12-13T17:27:41.057103Z"
    }
   },
   "id": "fd1d49a788c06eb4"
  },
  {
   "cell_type": "code",
   "execution_count": 12,
   "outputs": [
    {
     "data": {
      "text/plain": "[<matplotlib.lines.Line2D at 0x2cef943a0>]"
     },
     "execution_count": 12,
     "metadata": {},
     "output_type": "execute_result"
    },
    {
     "data": {
      "text/plain": "<Figure size 640x480 with 1 Axes>",
      "image/png": "[encoded data removed]"
     },
     "metadata": {},
     "output_type": "display_data"
    }
   ],
   "source": [
    "plt.plot(all_rewards)\n"
   ],
   "metadata": {
    "collapsed": false,
    "ExecuteTime": {
     "end_time": "2023-12-13T17:28:10.099466Z",
     "start_time": "2023-12-13T17:28:09.937126Z"
    }
   },
   "id": "e48689f2a72e24dc"
  },
  {
   "cell_type": "code",
   "execution_count": 13,
   "outputs": [
    {
     "data": {
      "text/plain": "True"
     },
     "execution_count": 13,
     "metadata": {},
     "output_type": "execute_result"
    }
   ],
   "source": [
    "# Reinitialize the agent\n",
    "\n",
    "cog.stop_service(\"coltra\")\n",
    "\n",
    "model = MLPModel(\n",
    "    config={\n",
    "    \"hidden_sizes\": [64, 64],\n",
    "    }, \n",
    "    observation_space=cenv.env.observation_space, \n",
    "    action_space=cenv.env.action_space\n",
    ")\n",
    "\n",
    "# Put the model in shared memory so that the actor can access it\n",
    "model.share_memory()\n",
    "actor = ColtraActor(model=model)\n",
    "\n",
    "\n",
    "await cog.run_actor(\n",
    "    actor=actor,\n",
    "    actor_name=\"coltra\",\n",
    "    port=9021,\n",
    "    log_file=\"actor.log\"\n",
    ")"
   ],
   "metadata": {
    "collapsed": false,
    "ExecuteTime": {
     "end_time": "2023-12-13T17:28:21.263799Z",
     "start_time": "2023-12-13T17:28:19.093753Z"
    }
   },
   "id": "5c1585be28fdae6c"
  },
  {
   "cell_type": "code",
   "execution_count": 15,
   "outputs": [],
   "source": [
    "# Get some human episodes\n",
    "episodes = []\n",
    "for i in range(1):\n",
    "    trial_id = await cog.start_trial(\n",
    "        env_name=\"mcar\",\n",
    "        session_config={\"render\": True},\n",
    "        actor_impls={\n",
    "            \"gym\": \"web_ui\",\n",
    "        },\n",
    "    )\n",
    "    multi_data = await cog.get_trial_data(trial_id=trial_id, env_name=\"mcar\")\n",
    "    data = multi_data[\"gym\"]\n",
    "    episodes.append(data)\n",
    "    \n",
    "all_data = concatenate(episodes)"
   ],
   "metadata": {
    "collapsed": false,
    "ExecuteTime": {
     "end_time": "2023-12-13T17:30:08.137344Z",
     "start_time": "2023-12-13T17:29:54.830169Z"
    }
   },
   "id": "8f1381b80d4c8799"
  },
  {
   "cell_type": "code",
   "execution_count": 16,
   "outputs": [
    {
     "name": "stdout",
     "output_type": "stream",
     "text": [
      "mean_reward: -151.0\n",
      "rewards: [-151.0]\n"
     ]
    }
   ],
   "source": [
    "mean_reward = np.mean([sum(e.rewards) for e in episodes])\n",
    "print(f\"mean_reward: {mean_reward}\")\n",
    "print(f\"rewards: {[sum(e.rewards) for e in episodes]}\")"
   ],
   "metadata": {
    "collapsed": false,
    "ExecuteTime": {
     "end_time": "2023-12-13T17:30:11.105847Z",
     "start_time": "2023-12-13T17:30:11.099839Z"
    }
   },
   "id": "73d139b8e5d005d8"
  },
  {
   "cell_type": "code",
   "execution_count": 17,
   "outputs": [],
   "source": [
    "cog.stop_service(\"web_ui\")"
   ],
   "metadata": {
    "collapsed": false,
    "ExecuteTime": {
     "end_time": "2023-12-13T17:30:20.978109Z",
     "start_time": "2023-12-13T17:30:19.950558Z"
    }
   },
   "id": "73c751b525abf31e"
  },
  {
   "cell_type": "code",
   "execution_count": 18,
   "outputs": [],
   "source": [
    "all_obs = Observation(vector=all_data.observations).tensor()\n",
    "all_actions = torch.tensor(all_data.actions)"
   ],
   "metadata": {
    "collapsed": false,
    "ExecuteTime": {
     "end_time": "2023-12-13T17:30:28.238655Z",
     "start_time": "2023-12-13T17:30:28.234181Z"
    }
   },
   "id": "cdcef32e17f9afc1"
  },
  {
   "cell_type": "code",
   "execution_count": 23,
   "outputs": [
    {
     "name": "stderr",
     "output_type": "stream",
     "text": [
      "loss: 0.28: 100%|██████████| 500/500 [00:00<00:00, 1018.11it/s] \n"
     ]
    }
   ],
   "source": [
    "losses = []\n",
    "optimizer = torch.optim.Adam(model.parameters(), lr=1e-3)\n",
    "for t in (pbar := trange(500)):\n",
    "    preds = model(all_obs)[0].logits\n",
    "    loss = F.cross_entropy(preds, all_actions)\n",
    "    \n",
    "    optimizer.zero_grad()\n",
    "    loss.backward()\n",
    "    optimizer.step()\n",
    "    \n",
    "    pbar.set_description(f\"loss: {loss.item():.3}\")\n",
    "    \n",
    "    losses.append(loss.item())\n",
    "    "
   ],
   "metadata": {
    "collapsed": false,
    "ExecuteTime": {
     "end_time": "2023-12-13T17:30:58.439176Z",
     "start_time": "2023-12-13T17:30:57.943699Z"
    }
   },
   "id": "9a1cb51957e9f672"
  },
  {
   "cell_type": "code",
   "execution_count": 24,
   "outputs": [
    {
     "data": {
      "text/plain": "[<matplotlib.lines.Line2D at 0x2cefd6680>]"
     },
     "execution_count": 24,
     "metadata": {},
     "output_type": "execute_result"
    },
    {
     "data": {
      "text/plain": "<Figure size 640x480 with 1 Axes>",
      "image/png": "[encoded data removed]"
     },
     "metadata": {},
     "output_type": "display_data"
    }
   ],
   "source": [
    "plt.plot(losses)"
   ],
   "metadata": {
    "collapsed": false,
    "ExecuteTime": {
     "end_time": "2023-12-13T17:30:59.243854Z",
     "start_time": "2023-12-13T17:30:59.170246Z"
    }
   },
   "id": "78ac13e102efe3a0"
  },
  {
   "cell_type": "code",
   "execution_count": 25,
   "outputs": [
    {
     "name": "stderr",
     "output_type": "stream",
     "text": [
      "100%|██████████| 10/10 [00:01<00:00,  5.13it/s]"
     ]
    },
    {
     "name": "stdout",
     "output_type": "stream",
     "text": [
      "mean_reward: -170.4\n"
     ]
    },
    {
     "name": "stderr",
     "output_type": "stream",
     "text": [
      "\n"
     ]
    }
   ],
   "source": [
    "# Estimate agent performance\n",
    "\n",
    "episodes = []\n",
    "for i in trange(10):\n",
    "    trial_id = await cog.start_trial(\n",
    "        env_name=\"mcar\",\n",
    "        session_config={\"render\": False},\n",
    "        actor_impls={\n",
    "            \"gym\": \"coltra\",\n",
    "        },\n",
    "    )\n",
    "    multi_data = await cog.get_trial_data(trial_id=trial_id, env_name=\"mcar\")\n",
    "    data = multi_data[\"gym\"]\n",
    "    episodes.append(data)\n",
    "mean_reward = np.mean([sum(e.rewards) for e in episodes])\n",
    "print(f\"mean_reward: {mean_reward}\")"
   ],
   "metadata": {
    "collapsed": false,
    "ExecuteTime": {
     "end_time": "2023-12-13T17:31:03.547789Z",
     "start_time": "2023-12-13T17:31:01.595787Z"
    }
   },
   "id": "d221ebfe535f9317"
  },
  {
   "cell_type": "code",
   "execution_count": 27,
   "outputs": [
    {
     "name": "stderr",
     "output_type": "stream",
     "text": [
      "mean_reward: -1.81e+02: 100%|██████████| 30/30 [01:12<00:00,  2.40s/it]\n"
     ]
    },
    {
     "data": {
      "text/plain": "[<matplotlib.lines.Line2D at 0x2d19698a0>]"
     },
     "execution_count": 27,
     "metadata": {},
     "output_type": "execute_result"
    },
    {
     "data": {
      "text/plain": "<Figure size 640x480 with 1 Axes>",
      "image/png": "[encoded data removed]"
     },
     "metadata": {},
     "output_type": "display_data"
    }
   ],
   "source": [
    "all_rewards = []\n",
    "\n",
    "ppo = CrowdPPOptimizer(HomogeneousGroup(actor.agent), config={\n",
    "    \"gamma\": 0.99,\n",
    "    \"gae_lambda\": 0.95,\n",
    "    \"minibatch_size\": 256,\n",
    "})\n",
    "\n",
    "for t in (pbar := trange(30)):\n",
    "    num_steps = 0\n",
    "    episodes = []\n",
    "    while num_steps < 2000:\n",
    "        trial_id = await cog.start_trial(\n",
    "            env_name=\"mcar\",\n",
    "            session_config={\"render\": False},\n",
    "            actor_impls={\n",
    "                \"gym\": \"coltra\",\n",
    "            },\n",
    "        )\n",
    "        multi_data = await cog.get_trial_data(trial_id=trial_id, env_name=\"mcar\")\n",
    "        data = multi_data[\"gym\"]\n",
    "        episodes.append(data)\n",
    "        num_steps += len(data.rewards)\n",
    "        \n",
    "    all_data = concatenate(episodes)\n",
    "    \n",
    "    last_value = actor.agent.act(Observation(vector=all_data.last_observation), get_value=True)[2][\"value\"]\n",
    "    values = actor.agent.act(Observation(vector=all_data.observations), get_value=True)[2][\"value\"]\n",
    "    \n",
    "    record = convert_trial_data_to_coltra(all_data, agent=actor.agent)\n",
    "    metrics = ppo.train_on_data({\"crowd\": record}, shape=(1,) + record.reward.shape)\n",
    "    \n",
    "    mean_reward = metrics[\"crowd/mean_episode_reward\"]\n",
    "    all_rewards.append(mean_reward)\n",
    "    pbar.set_description(f\"mean_reward: {mean_reward:.3}\")\n",
    "        \n",
    "plt.plot(all_rewards)\n"
   ],
   "metadata": {
    "collapsed": false,
    "ExecuteTime": {
     "end_time": "2023-12-13T17:32:23.974676Z",
     "start_time": "2023-12-13T17:31:11.816425Z"
    }
   },
   "id": "56b220d45561a042"
  },
  {
   "cell_type": "code",
   "execution_count": null,
   "outputs": [],
   "source": [
    "await cog.cleanup()"
   ],
   "metadata": {
    "collapsed": false
   },
   "id": "1fb0dfc4957749d2"
  }
 ],
 "metadata": {
  "kernelspec": {
   "display_name": "Python 3 (ipykernel)",
   "language": "python",
   "name": "python3"
  },
  "language_info": {
   "codemirror_mode": {
    "name": "ipython",
    "version": 3
   },
   "file_extension": ".py",
   "mimetype": "text/x-python",
   "name": "python",
   "nbconvert_exporter": "python",
   "pygments_lexer": "ipython3",
   "version": "3.10.0"
  }
 },
 "nbformat": 4,
 "nbformat_minor": 5
}
