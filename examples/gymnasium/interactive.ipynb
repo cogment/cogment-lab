{
 "cells": [
  {
   "cell_type": "code",
   "execution_count": 1,
   "id": "initial_id",
   "metadata": {
    "ExecuteTime": {
     "end_time": "2023-12-13T17:33:49.536453Z",
     "start_time": "2023-12-13T17:33:47.755623Z"
    }
   },
   "outputs": [],
   "source": [
    "import datetime\n",
    "\n",
    "from cogment_lab.actors import RandomActor, ConstantActor\n",
    "from cogment_lab.envs.gymnasium import GymEnvironment\n",
    "from cogment_lab.process_manager import Cogment\n",
    "from cogment_lab.utils.runners import process_cleanup\n",
    "from cogment_lab.utils.trial_utils import format_data_multiagent\n"
   ]
  },
  {
   "cell_type": "code",
   "execution_count": 2,
   "outputs": [
    {
     "name": "stdout",
     "output_type": "stream",
     "text": [
      "Processes terminated successfully.\n"
     ]
    }
   ],
   "source": [
    "# Cleans up potentially hanging background processes from previous runs\n",
    "process_cleanup()"
   ],
   "metadata": {
    "collapsed": false,
    "ExecuteTime": {
     "end_time": "2023-12-13T17:33:49.592824Z",
     "start_time": "2023-12-13T17:33:49.544145Z"
    }
   },
   "id": "d431ab6f9d8d29cb"
  },
  {
   "cell_type": "code",
   "execution_count": 3,
   "id": "2658232039e652c3",
   "metadata": {
    "collapsed": false,
    "ExecuteTime": {
     "end_time": "2023-12-13T17:33:52.081428Z",
     "start_time": "2023-12-13T17:33:52.075851Z"
    }
   },
   "outputs": [
    {
     "name": "stdout",
     "output_type": "stream",
     "text": [
      "logs/logs-2023-12-13T18:33:52.073150\n"
     ]
    },
    {
     "name": "stderr",
     "output_type": "stream",
     "text": [
      "/Users/ariel/PycharmProjects/cogment_lab/venv/lib/python3.10/site-packages/cogment/context.py:213: UserWarning: No logging handler defined (e.g. logging.basicConfig)\n",
      "  warnings.warn(\"No logging handler defined (e.g. logging.basicConfig)\")\n"
     ]
    }
   ],
   "source": [
    "logpath = f\"logs/logs-{datetime.datetime.now().isoformat()}\"\n",
    "\n",
    "cog = Cogment(log_dir=logpath)\n",
    "\n",
    "print(logpath)"
   ]
  },
  {
   "cell_type": "code",
   "execution_count": 4,
   "id": "a074d1b3-b399-4e34-a68b-e86adb20caee",
   "metadata": {
    "collapsed": false,
    "ExecuteTime": {
     "end_time": "2023-12-13T17:33:58.345454Z",
     "start_time": "2023-12-13T17:33:56.187819Z"
    }
   },
   "outputs": [
    {
     "data": {
      "text/plain": "True"
     },
     "execution_count": 4,
     "metadata": {},
     "output_type": "execute_result"
    }
   ],
   "source": [
    "# Launch an environment in a subprocess\n",
    "\n",
    "cenv = GymEnvironment(\n",
    "    env_id=\"CartPole-v1\",\n",
    "    render=True\n",
    ")\n",
    "\n",
    "await cog.run_env(env=cenv, \n",
    "                  env_name=\"cartpole\",\n",
    "                  port=9001, \n",
    "                  log_file=\"env.log\")\n"
   ]
  },
  {
   "cell_type": "code",
   "execution_count": 5,
   "id": "3374d134b845beb2",
   "metadata": {
    "collapsed": false,
    "ExecuteTime": {
     "end_time": "2023-12-13T17:34:03.722724Z",
     "start_time": "2023-12-13T17:33:59.337837Z"
    }
   },
   "outputs": [
    {
     "data": {
      "text/plain": "True"
     },
     "execution_count": 5,
     "metadata": {},
     "output_type": "execute_result"
    }
   ],
   "source": [
    "# Launch two dummy actors in subprocesses\n",
    "\n",
    "random_actor = RandomActor(cenv.env.action_space)\n",
    "constant_actor = ConstantActor(0)\n",
    "\n",
    "await cog.run_actor(actor=random_actor, \n",
    "                    actor_name=\"random\", \n",
    "                    port=9021, \n",
    "                    log_file=\"actor-random.log\")\n",
    "\n",
    "await cog.run_actor(actor=constant_actor,\n",
    "                    actor_name=\"constant\",\n",
    "                    port=9022,\n",
    "                    log_file=\"actor-constant.log\")\n"
   ]
  },
  {
   "cell_type": "code",
   "execution_count": 6,
   "outputs": [
    {
     "data": {
      "text/plain": "{'cartpole': <SpawnProcess name='SpawnProcess-1' pid=16499 parent=16475 started>,\n 'random': <SpawnProcess name='SpawnProcess-2' pid=16502 parent=16475 started>,\n 'constant': <SpawnProcess name='SpawnProcess-3' pid=16505 parent=16475 started>}"
     },
     "execution_count": 6,
     "metadata": {},
     "output_type": "execute_result"
    }
   ],
   "source": [
    "# Check what's running\n",
    "\n",
    "cog.processes"
   ],
   "metadata": {
    "collapsed": false,
    "ExecuteTime": {
     "end_time": "2023-12-13T17:34:03.723625Z",
     "start_time": "2023-12-13T17:34:03.721429Z"
    }
   },
   "id": "896164c911313b40"
  },
  {
   "cell_type": "code",
   "execution_count": 7,
   "id": "835c4d6ecb2afb23",
   "metadata": {
    "collapsed": false,
    "ExecuteTime": {
     "end_time": "2023-12-13T17:34:07.883447Z",
     "start_time": "2023-12-13T17:34:05.647704Z"
    }
   },
   "outputs": [
    {
     "data": {
      "text/plain": "True"
     },
     "execution_count": 7,
     "metadata": {},
     "output_type": "execute_result"
    }
   ],
   "source": [
    "MOUNTAIN_CAR_ACTIONS = [\"no-op\", \"ArrowLeft\", \"ArrowRight\"]\n",
    "LUNAR_LANDER_ACTIONS = [\"no-op\", \"ArrowRight\", \"ArrowUp\", \"ArrowLeft\"]\n",
    "PONG_ACTIONS = [\"no-op\", \"ArrowUp\", \"ArrowDown\"]\n",
    "CARTPOLE_ACTIONS = [\"no-op\", \"ArrowRight\"]\n",
    "\n",
    "# Change this if you use a different environment. Only discrete actions are supported for now.\n",
    "# no-op is the default action when no key is pressed\n",
    "\n",
    "actions = CARTPOLE_ACTIONS\n",
    "\n",
    "await cog.run_web_ui(actions=actions, log_file=\"human.log\", fps=10)"
   ]
  },
  {
   "cell_type": "code",
   "execution_count": 8,
   "outputs": [],
   "source": [
    "trial_id = await cog.start_trial(\n",
    "    env_name=\"cartpole\",\n",
    "    session_config={\"render\": True},\n",
    "    actor_impls={\n",
    "        \"gym\": \"random\",\n",
    "    },\n",
    ")\n",
    "\n",
    "data = await cog.get_trial_data(trial_id)\n"
   ],
   "metadata": {
    "collapsed": false,
    "ExecuteTime": {
     "end_time": "2023-12-13T17:34:30.419894Z",
     "start_time": "2023-12-13T17:34:29.936857Z"
    }
   },
   "id": "8052ff03998b0b52"
  },
  {
   "cell_type": "code",
   "execution_count": 9,
   "outputs": [
    {
     "data": {
      "text/plain": "(19, 4)"
     },
     "execution_count": 9,
     "metadata": {},
     "output_type": "execute_result"
    }
   ],
   "source": [
    "data[\"gym\"].observations.shape"
   ],
   "metadata": {
    "collapsed": false,
    "ExecuteTime": {
     "end_time": "2023-12-13T17:52:54.113076Z",
     "start_time": "2023-12-13T17:52:54.105989Z"
    }
   },
   "id": "1800cbfeca577ec8"
  },
  {
   "cell_type": "code",
   "execution_count": 11,
   "outputs": [],
   "source": [
    "await cog.cleanup()"
   ],
   "metadata": {
    "collapsed": false,
    "ExecuteTime": {
     "end_time": "2023-12-13T17:53:01.851686Z",
     "start_time": "2023-12-13T17:53:00.771Z"
    }
   },
   "id": "5d5770465a23d064"
  }
 ],
 "metadata": {
  "kernelspec": {
   "display_name": "Python 3 (ipykernel)",
   "language": "python",
   "name": "python3"
  },
  "language_info": {
   "codemirror_mode": {
    "name": "ipython",
    "version": 3
   },
   "file_extension": ".py",
   "mimetype": "text/x-python",
   "name": "python",
   "nbconvert_exporter": "python",
   "pygments_lexer": "ipython3",
   "version": "3.10.0"
  }
 },
 "nbformat": 4,
 "nbformat_minor": 5
}
