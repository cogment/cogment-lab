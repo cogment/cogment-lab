{
 "cells": [
  {
   "cell_type": "code",
   "execution_count": 4,
   "id": "initial_id",
   "metadata": {
    "ExecuteTime": {
     "end_time": "2023-12-13T17:55:13.220688Z",
     "start_time": "2023-12-13T17:55:13.216030Z"
    }
   },
   "outputs": [],
   "source": [
    "import datetime\n",
    "\n",
    "from cogment_lab.envs.gymnasium import GymEnvironment\n",
    "from cogment_lab.process_manager import Cogment\n",
    "from cogment_lab.utils.coltra_utils import convert_trial_data_to_coltra\n",
    "from cogment_lab.utils.runners import process_cleanup\n",
    "from cogment_lab.utils.trial_utils import concatenate\n",
    "\n",
    "from coltra import HomogeneousGroup\n",
    "from coltra.models import MLPModel\n",
    "from coltra.policy_optimization import CrowdPPOptimizer\n",
    "\n",
    "from cogment_lab.actors.nn_actor import ColtraActor\n",
    "\n",
    "from tqdm import trange\n",
    "import matplotlib.pyplot as plt\n"
   ]
  },
  {
   "cell_type": "code",
   "execution_count": 2,
   "outputs": [
    {
     "name": "stdout",
     "output_type": "stream",
     "text": [
      "Processes terminated successfully.\n"
     ]
    }
   ],
   "source": [
    "# Cleans up potentially hanging background processes from previous runs\n",
    "process_cleanup()"
   ],
   "metadata": {
    "collapsed": false,
    "ExecuteTime": {
     "end_time": "2023-12-13T17:53:33.296582Z",
     "start_time": "2023-12-13T17:53:33.235940Z"
    }
   },
   "id": "d431ab6f9d8d29cb"
  },
  {
   "cell_type": "code",
   "execution_count": 3,
   "id": "2658232039e652c3",
   "metadata": {
    "collapsed": false,
    "ExecuteTime": {
     "end_time": "2023-12-13T17:53:33.624181Z",
     "start_time": "2023-12-13T17:53:33.621354Z"
    }
   },
   "outputs": [
    {
     "name": "stdout",
     "output_type": "stream",
     "text": [
      "logs/logs-2023-12-13T18:53:33.619848\n"
     ]
    },
    {
     "name": "stderr",
     "output_type": "stream",
     "text": [
      "/Users/ariel/PycharmProjects/cogment_lab/venv/lib/python3.10/site-packages/cogment/context.py:213: UserWarning: No logging handler defined (e.g. logging.basicConfig)\n",
      "  warnings.warn(\"No logging handler defined (e.g. logging.basicConfig)\")\n"
     ]
    }
   ],
   "source": [
    "logpath = f\"logs/logs-{datetime.datetime.now().isoformat()}\"\n",
    "\n",
    "cog = Cogment(log_dir=logpath)\n",
    "\n",
    "print(logpath)"
   ]
  },
  {
   "cell_type": "code",
   "execution_count": 5,
   "id": "a074d1b3-b399-4e34-a68b-e86adb20caee",
   "metadata": {
    "collapsed": false,
    "ExecuteTime": {
     "end_time": "2023-12-13T17:55:18.921705Z",
     "start_time": "2023-12-13T17:55:16.764819Z"
    }
   },
   "outputs": [
    {
     "data": {
      "text/plain": "True"
     },
     "execution_count": 5,
     "metadata": {},
     "output_type": "execute_result"
    }
   ],
   "source": [
    "# We'll train on CartPole-v1\n",
    "\n",
    "cenv = GymEnvironment(\n",
    "    env_id=\"CartPole-v1\",\n",
    "    render=False,\n",
    ")\n",
    "\n",
    "await cog.run_env(env=cenv, \n",
    "                  env_name=\"cartpole\",\n",
    "                  port=9001, \n",
    "                  log_file=\"env.log\")\n"
   ]
  },
  {
   "cell_type": "code",
   "execution_count": 6,
   "id": "3374d134b845beb2",
   "metadata": {
    "collapsed": false,
    "ExecuteTime": {
     "end_time": "2023-12-13T17:55:20.063208Z",
     "start_time": "2023-12-13T17:55:20.059040Z"
    }
   },
   "outputs": [],
   "source": [
    "# Create a model using coltra\n",
    "\n",
    "model = MLPModel(\n",
    "    config={\n",
    "    \"hidden_sizes\": [64, 64],\n",
    "    }, \n",
    "    observation_space=cenv.env.observation_space, \n",
    "    action_space=cenv.env.action_space\n",
    ")\n",
    "\n",
    "actor = ColtraActor(model=model)\n",
    "\n",
    "\n",
    "actor_task = cog.run_local_actor(\n",
    "        actor=actor,\n",
    "        actor_name=\"coltra\",\n",
    "        port=9021,\n",
    "        log_file=\"actor.log\"\n",
    "    )\n"
   ]
  },
  {
   "cell_type": "code",
   "execution_count": 9,
   "outputs": [
    {
     "data": {
      "text/plain": "{'cartpole': <SpawnProcess name='SpawnProcess-1' pid=16912 parent=8705 started>,\n 'coltra': <Task pending name='Task-6' coro=<Context.serve_all_registered() running at /Users/ariel/PycharmProjects/cogment_lab/venv/lib/python3.10/site-packages/cogment/context.py:394> wait_for=<Future pending cb=[Task.task_wakeup()]>>}"
     },
     "execution_count": 9,
     "metadata": {},
     "output_type": "execute_result"
    }
   ],
   "source": [
    "# Check what's running\n",
    "\n",
    "cog.processes | cog.tasks"
   ],
   "metadata": {
    "collapsed": false,
    "ExecuteTime": {
     "end_time": "2023-12-13T17:55:31.732225Z",
     "start_time": "2023-12-13T17:55:31.729176Z"
    }
   },
   "id": "896164c911313b40"
  },
  {
   "cell_type": "code",
   "execution_count": 10,
   "outputs": [],
   "source": [
    "ppo = CrowdPPOptimizer(HomogeneousGroup(actor.agent), config={\n",
    "    \"gae_lambda\": 0.95,\n",
    "    \"minibatch_size\": 128,\n",
    "})"
   ],
   "metadata": {
    "collapsed": false,
    "ExecuteTime": {
     "end_time": "2023-12-13T17:55:38.366171Z",
     "start_time": "2023-12-13T17:55:38.201298Z"
    }
   },
   "id": "582b6bb1bf0c81df"
  },
  {
   "cell_type": "code",
   "execution_count": 12,
   "outputs": [
    {
     "name": "stderr",
     "output_type": "stream",
     "text": [
      "  0%|          | 0/10 [00:00<?, ?it/s]/Users/ariel/PycharmProjects/cogment_lab/venv/lib/python3.10/site-packages/coltra/buffers.py:144: UserWarning: The given NumPy array is not writable, and PyTorch does not support non-writable tensors. This means writing to this tensor will result in undefined behavior. You may want to copy the array to protect its data or make it writable before converting it to a tensor. This type of warning will be suppressed for the rest of this program. (Triggered internally at /Users/runner/work/pytorch/pytorch/pytorch/torch/csrc/utils/tensor_numpy.cpp:212.)\n",
      "  tensor = torch.as_tensor(value).to(device)\n",
      "mean_reward: 25.9: 100%|██████████| 10/10 [00:16<00:00,  1.63s/it]\n"
     ]
    }
   ],
   "source": [
    "all_rewards = []\n",
    "\n",
    "for t in (pbar := trange(10)):\n",
    "    num_steps = 0\n",
    "    episodes = []\n",
    "    while num_steps < 1000:  # Collect at least 1000 steps per training iteration\n",
    "        trial_id = await cog.start_trial(\n",
    "            env_name=\"cartpole\",\n",
    "            session_config={\"render\": False},\n",
    "            actor_impls={\n",
    "                \"gym\": \"coltra\",\n",
    "            },\n",
    "        )\n",
    "        multi_data = await cog.get_trial_data(trial_id=trial_id, env_name=\"cartpole\")\n",
    "        data = multi_data[\"gym\"]\n",
    "        episodes.append(data)\n",
    "        num_steps += len(data.rewards)\n",
    "        \n",
    "    all_data = concatenate(episodes)\n",
    "\n",
    "    # Preprocess data\n",
    "    record = convert_trial_data_to_coltra(all_data, actor.agent)\n",
    "\n",
    "    # Run a PPO step\n",
    "    metrics = ppo.train_on_data({\"crowd\": record}, shape=(1,) + record.reward.shape)\n",
    "    \n",
    "    mean_reward = metrics[\"crowd/mean_episode_reward\"]\n",
    "    all_rewards.append(mean_reward)\n",
    "    pbar.set_description(f\"mean_reward: {mean_reward:.3}\")"
   ],
   "metadata": {
    "collapsed": false,
    "ExecuteTime": {
     "end_time": "2023-12-13T17:56:23.878235Z",
     "start_time": "2023-12-13T17:56:07.566046Z"
    }
   },
   "id": "56b220d45561a042"
  },
  {
   "cell_type": "code",
   "execution_count": 13,
   "outputs": [
    {
     "data": {
      "text/plain": "[<matplotlib.lines.Line2D at 0x159b5e320>]"
     },
     "execution_count": 13,
     "metadata": {},
     "output_type": "execute_result"
    },
    {
     "data": {
      "text/plain": "<Figure size 640x480 with 1 Axes>",
      "image/png": "[encoded data removed]"
     },
     "metadata": {},
     "output_type": "display_data"
    }
   ],
   "source": [
    "plt.plot(all_rewards)"
   ],
   "metadata": {
    "collapsed": false,
    "ExecuteTime": {
     "end_time": "2023-12-13T18:00:12.198836Z",
     "start_time": "2023-12-13T18:00:12.058221Z"
    }
   },
   "id": "457bbd9d81cac391"
  }
 ],
 "metadata": {
  "kernelspec": {
   "display_name": "Python 3 (ipykernel)",
   "language": "python",
   "name": "python3"
  },
  "language_info": {
   "codemirror_mode": {
    "name": "ipython",
    "version": 3
   },
   "file_extension": ".py",
   "mimetype": "text/x-python",
   "name": "python",
   "nbconvert_exporter": "python",
   "pygments_lexer": "ipython3",
   "version": "3.10.0"
  }
 },
 "nbformat": 4,
 "nbformat_minor": 5
}
