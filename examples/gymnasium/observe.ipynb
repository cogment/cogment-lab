{
 "cells": [
  {
   "cell_type": "code",
   "execution_count": 1,
   "id": "initial_id",
   "metadata": {
    "ExecuteTime": {
     "end_time": "2023-12-13T18:23:08.799669Z",
     "start_time": "2023-12-13T18:23:07.078180Z"
    }
   },
   "outputs": [],
   "source": [
    "import datetime\n",
    "\n",
    "from cogment_lab.actors import RandomActor, ConstantActor\n",
    "from cogment_lab.envs.pettingzoo import AECEnvironment\n",
    "from cogment_lab.process_manager import Cogment\n",
    "from cogment_lab.utils.runners import process_cleanup\n"
   ]
  },
  {
   "cell_type": "code",
   "execution_count": 2,
   "outputs": [
    {
     "name": "stdout",
     "output_type": "stream",
     "text": [
      "Processes terminated successfully.\n"
     ]
    }
   ],
   "source": [
    "# Cleans up potentially hanging background processes from previous runs\n",
    "process_cleanup()"
   ],
   "metadata": {
    "collapsed": false,
    "ExecuteTime": {
     "end_time": "2023-12-13T18:23:09.292376Z",
     "start_time": "2023-12-13T18:23:09.234508Z"
    }
   },
   "id": "d431ab6f9d8d29cb"
  },
  {
   "cell_type": "code",
   "execution_count": 3,
   "id": "2658232039e652c3",
   "metadata": {
    "collapsed": false,
    "ExecuteTime": {
     "end_time": "2023-12-13T18:23:09.470752Z",
     "start_time": "2023-12-13T18:23:09.465578Z"
    }
   },
   "outputs": [
    {
     "name": "stdout",
     "output_type": "stream",
     "text": [
      "logs/logs-2023-12-13T19:23:09.453551\n"
     ]
    },
    {
     "name": "stderr",
     "output_type": "stream",
     "text": [
      "/Users/ariel/PycharmProjects/cogment_lab/venv/lib/python3.10/site-packages/cogment/context.py:213: UserWarning: No logging handler defined (e.g. logging.basicConfig)\n",
      "  warnings.warn(\"No logging handler defined (e.g. logging.basicConfig)\")\n"
     ]
    }
   ],
   "source": [
    "logpath = f\"logs/logs-{datetime.datetime.now().isoformat()}\"\n",
    "\n",
    "cog = Cogment(log_dir=logpath)\n",
    "\n",
    "print(logpath)"
   ]
  },
  {
   "cell_type": "code",
   "execution_count": 4,
   "id": "a074d1b3-b399-4e34-a68b-e86adb20caee",
   "metadata": {
    "collapsed": false,
    "ExecuteTime": {
     "end_time": "2023-12-13T18:23:11.879060Z",
     "start_time": "2023-12-13T18:23:09.667673Z"
    }
   },
   "outputs": [
    {
     "data": {
      "text/plain": "True"
     },
     "execution_count": 4,
     "metadata": {},
     "output_type": "execute_result"
    }
   ],
   "source": [
    "# Launch an environment in a subprocess\n",
    "\n",
    "cenv = AECEnvironment(env_path=\"cogment_lab.envs.conversions.observer.GymObserverAECAEC\",\n",
    "                      make_kwargs={\"gym_env_name\": \"LunarLander-v2\"},\n",
    "                      render=True)\n",
    "\n",
    "await cog.run_env(env=cenv, \n",
    "                  env_name=\"lunar\",\n",
    "                  port=9011, \n",
    "                  log_file=\"env.log\")\n"
   ]
  },
  {
   "cell_type": "code",
   "execution_count": 5,
   "id": "3374d134b845beb2",
   "metadata": {
    "collapsed": false,
    "ExecuteTime": {
     "end_time": "2023-12-13T18:23:16.261481Z",
     "start_time": "2023-12-13T18:23:11.876240Z"
    }
   },
   "outputs": [
    {
     "data": {
      "text/plain": "True"
     },
     "execution_count": 5,
     "metadata": {},
     "output_type": "execute_result"
    }
   ],
   "source": [
    "# Launch two dummy actors in subprocesses\n",
    "\n",
    "random_actor = RandomActor(cenv.env.action_space(\"gym\"))\n",
    "constant_actor = ConstantActor(0)\n",
    "\n",
    "await cog.run_actor(actor=random_actor, \n",
    "                    actor_name=\"random\", \n",
    "                    port=9021, \n",
    "                    log_file=\"actor-random.log\")\n",
    "\n",
    "await cog.run_actor(actor=constant_actor,\n",
    "                    actor_name=\"constant\",\n",
    "                    port=9022,\n",
    "                    log_file=\"actor-constant.log\")\n"
   ]
  },
  {
   "cell_type": "code",
   "execution_count": 6,
   "outputs": [
    {
     "data": {
      "text/plain": "{'lunar': <SpawnProcess name='SpawnProcess-1' pid=17412 parent=17393 started>,\n 'random': <SpawnProcess name='SpawnProcess-2' pid=17417 parent=17393 started>,\n 'constant': <SpawnProcess name='SpawnProcess-3' pid=17421 parent=17393 started>}"
     },
     "execution_count": 6,
     "metadata": {},
     "output_type": "execute_result"
    }
   ],
   "source": [
    "# Check what's running\n",
    "\n",
    "cog.processes"
   ],
   "metadata": {
    "collapsed": false,
    "ExecuteTime": {
     "end_time": "2023-12-13T18:23:16.267399Z",
     "start_time": "2023-12-13T18:23:16.260197Z"
    }
   },
   "id": "896164c911313b40"
  },
  {
   "cell_type": "code",
   "execution_count": 7,
   "id": "835c4d6ecb2afb23",
   "metadata": {
    "collapsed": false,
    "ExecuteTime": {
     "end_time": "2023-12-13T18:23:23.468397Z",
     "start_time": "2023-12-13T18:23:21.316245Z"
    }
   },
   "outputs": [
    {
     "data": {
      "text/plain": "True"
     },
     "execution_count": 7,
     "metadata": {},
     "output_type": "execute_result"
    }
   ],
   "source": [
    "LUNAR_LANDER_ACTIONS = [\"no-op\", \"ArrowRight\", \"ArrowUp\", \"ArrowLeft\"]\n",
    "\n",
    "# Change this if you use a different environment. Only discrete actions are supported for now.\n",
    "\n",
    "actions = LUNAR_LANDER_ACTIONS\n",
    "await cog.run_web_ui(actions=actions, log_file=\"human.log\", fps=60)"
   ]
  },
  {
   "cell_type": "code",
   "execution_count": 8,
   "outputs": [],
   "source": [
    "# Get data from a random + random trial\n",
    "# You can change the values in `actor_impls` between `web_ui`, `random`, and `constant` to see the different behaviors\n",
    "\n",
    "trial_id = await cog.start_trial(\n",
    "    env_name=\"lunar\",\n",
    "    session_config={\"render\": True},\n",
    "    actor_impls={\n",
    "        \"gym\": \"random\",\n",
    "        \"observer\": \"web_ui\",\n",
    "    },\n",
    ")"
   ],
   "metadata": {
    "collapsed": false,
    "ExecuteTime": {
     "end_time": "2023-12-13T18:23:24.017807Z",
     "start_time": "2023-12-13T18:23:24.005380Z"
    }
   },
   "id": "efef1ac3ff97fe90"
  },
  {
   "cell_type": "code",
   "execution_count": 9,
   "outputs": [],
   "source": [
    "data = await cog.get_trial_data(trial_id)"
   ],
   "metadata": {
    "collapsed": false,
    "ExecuteTime": {
     "end_time": "2023-12-13T18:23:35.523005Z",
     "start_time": "2023-12-13T18:23:26.560614Z"
    }
   },
   "id": "8052ff03998b0b52"
  },
  {
   "cell_type": "code",
   "execution_count": 13,
   "outputs": [],
   "source": [
    "await cog.cleanup()"
   ],
   "metadata": {
    "collapsed": false,
    "ExecuteTime": {
     "end_time": "2023-12-13T18:22:59.869879Z",
     "start_time": "2023-12-13T18:22:58.827007Z"
    }
   },
   "id": "9e64d0d548ac34ef"
  }
 ],
 "metadata": {
  "kernelspec": {
   "display_name": "Python 3 (ipykernel)",
   "language": "python",
   "name": "python3"
  },
  "language_info": {
   "codemirror_mode": {
    "name": "ipython",
    "version": 3
   },
   "file_extension": ".py",
   "mimetype": "text/x-python",
   "name": "python",
   "nbconvert_exporter": "python",
   "pygments_lexer": "ipython3",
   "version": "3.10.0"
  }
 },
 "nbformat": 4,
 "nbformat_minor": 5
}
