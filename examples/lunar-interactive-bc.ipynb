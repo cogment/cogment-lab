{
 "cells": [
  {
   "cell_type": "code",
   "execution_count": 1,
   "id": "initial_id",
   "metadata": {
    "ExecuteTime": {
     "end_time": "2023-12-13T19:12:43.977147Z",
     "start_time": "2023-12-13T19:12:42.044264Z"
    }
   },
   "outputs": [],
   "source": [
    "import datetime\n",
    "\n",
    "\n",
    "import numpy as np\n",
    "\n",
    "import torch\n",
    "import torch.nn.functional as F\n",
    "\n",
    "from cogment_lab.envs.gymnasium import GymEnvironment\n",
    "from cogment_lab.process_manager import Cogment\n",
    "from cogment_lab.utils.coltra_utils import convert_trial_data_to_coltra\n",
    "from cogment_lab.utils.runners import process_cleanup\n",
    "from cogment_lab.utils.trial_utils import format_data_multiagent, concatenate\n",
    "\n",
    "from coltra import HomogeneousGroup\n",
    "from coltra.buffers import Observation, Action\n",
    "from coltra.models import MLPModel\n",
    "from coltra.policy_optimization import CrowdPPOptimizer\n",
    "\n",
    "from cogment_lab.actors.nn_actor import ColtraActor\n",
    "\n",
    "from tqdm import trange\n",
    "import matplotlib.pyplot as plt\n"
   ]
  },
  {
   "cell_type": "code",
   "execution_count": 2,
   "outputs": [
    {
     "name": "stdout",
     "output_type": "stream",
     "text": [
      "Processes terminated successfully.\n"
     ]
    }
   ],
   "source": [
    "# Cleans up potentially hanging background processes from previous runs\n",
    "process_cleanup()"
   ],
   "metadata": {
    "collapsed": false,
    "ExecuteTime": {
     "end_time": "2023-12-13T19:12:44.045367Z",
     "start_time": "2023-12-13T19:12:43.986529Z"
    }
   },
   "id": "d431ab6f9d8d29cb"
  },
  {
   "cell_type": "code",
   "execution_count": 3,
   "id": "2658232039e652c3",
   "metadata": {
    "collapsed": false,
    "ExecuteTime": {
     "end_time": "2023-12-13T19:12:44.910776Z",
     "start_time": "2023-12-13T19:12:44.396144Z"
    }
   },
   "outputs": [
    {
     "name": "stdout",
     "output_type": "stream",
     "text": [
      "logs/logs-2023-12-13T20:12:44.394188\n"
     ]
    },
    {
     "name": "stderr",
     "output_type": "stream",
     "text": [
      "/Users/ariel/PycharmProjects/cogment_lab/venv/lib/python3.10/site-packages/cogment/context.py:213: UserWarning: No logging handler defined (e.g. logging.basicConfig)\n",
      "  warnings.warn(\"No logging handler defined (e.g. logging.basicConfig)\")\n"
     ]
    }
   ],
   "source": [
    "logpath = f\"logs/logs-{datetime.datetime.now().isoformat()}\"\n",
    "\n",
    "cog = Cogment(log_dir=logpath)\n",
    "\n",
    "print(logpath)"
   ]
  },
  {
   "cell_type": "code",
   "execution_count": 4,
   "id": "a074d1b3-b399-4e34-a68b-e86adb20caee",
   "metadata": {
    "collapsed": false,
    "ExecuteTime": {
     "end_time": "2023-12-13T19:12:47.125359Z",
     "start_time": "2023-12-13T19:12:44.911292Z"
    }
   },
   "outputs": [
    {
     "data": {
      "text/plain": "True"
     },
     "execution_count": 4,
     "metadata": {},
     "output_type": "execute_result"
    }
   ],
   "source": [
    "# We'll train on \n",
    "\n",
    "cenv = GymEnvironment(\n",
    "    env_id=\"LunarLander-v2\",\n",
    "    render=True,\n",
    ")\n",
    "\n",
    "await cog.run_env(env=cenv, \n",
    "                  env_name=\"mcar\",\n",
    "                  port=9001, \n",
    "                  log_file=\"env.log\")\n"
   ]
  },
  {
   "cell_type": "code",
   "execution_count": 5,
   "id": "3374d134b845beb2",
   "metadata": {
    "collapsed": false,
    "ExecuteTime": {
     "end_time": "2023-12-13T19:12:49.518262Z",
     "start_time": "2023-12-13T19:12:47.125042Z"
    }
   },
   "outputs": [
    {
     "data": {
      "text/plain": "True"
     },
     "execution_count": 5,
     "metadata": {},
     "output_type": "execute_result"
    }
   ],
   "source": [
    "# Create a model using coltra\n",
    "\n",
    "model = MLPModel(\n",
    "    config={\n",
    "    \"hidden_sizes\": [64, 64],\n",
    "    }, \n",
    "    observation_space=cenv.env.observation_space, \n",
    "    action_space=cenv.env.action_space\n",
    ")\n",
    "\n",
    "# Put the model in shared memory so that the actor can access it\n",
    "model.share_memory()\n",
    "actor = ColtraActor(model=model)\n",
    "\n",
    "\n",
    "await cog.run_actor(\n",
    "    actor=actor,\n",
    "    actor_name=\"coltra\",\n",
    "    port=9021,\n",
    "    log_file=\"actor.log\"\n",
    ")"
   ]
  },
  {
   "cell_type": "code",
   "execution_count": 6,
   "outputs": [
    {
     "data": {
      "text/plain": "{'mcar': <SpawnProcess name='SpawnProcess-1' pid=18054 parent=18019 started>,\n 'coltra': <SpawnProcess name='SpawnProcess-2' pid=18062 parent=18019 started>}"
     },
     "execution_count": 6,
     "metadata": {},
     "output_type": "execute_result"
    }
   ],
   "source": [
    "# Check what's running\n",
    "\n",
    "cog.processes"
   ],
   "metadata": {
    "collapsed": false,
    "ExecuteTime": {
     "end_time": "2023-12-13T19:12:49.519197Z",
     "start_time": "2023-12-13T19:12:49.514813Z"
    }
   },
   "id": "896164c911313b40"
  },
  {
   "cell_type": "code",
   "execution_count": 7,
   "id": "835c4d6ecb2afb23",
   "metadata": {
    "collapsed": false,
    "ExecuteTime": {
     "end_time": "2023-12-13T19:12:51.661932Z",
     "start_time": "2023-12-13T19:12:49.518157Z"
    }
   },
   "outputs": [
    {
     "data": {
      "text/plain": "True"
     },
     "execution_count": 7,
     "metadata": {},
     "output_type": "execute_result"
    }
   ],
   "source": [
    "LUNAR_LANDER_ACTIONS = [\"no-op\", \"ArrowRight\", \"ArrowUp\", \"ArrowLeft\"]\n",
    "\n",
    "actions = LUNAR_LANDER_ACTIONS\n",
    "\n",
    "await cog.run_web_ui(actions=actions, log_file=\"human.log\", fps=30)"
   ]
  },
  {
   "cell_type": "code",
   "execution_count": 8,
   "outputs": [
    {
     "name": "stderr",
     "output_type": "stream",
     "text": [
      "100%|██████████| 10/10 [00:01<00:00,  9.98it/s]"
     ]
    },
    {
     "name": "stdout",
     "output_type": "stream",
     "text": [
      "mean_reward: -52.153119627747216\n"
     ]
    },
    {
     "name": "stderr",
     "output_type": "stream",
     "text": [
      "\n"
     ]
    }
   ],
   "source": [
    "# Estimate random agent performance\n",
    "\n",
    "episodes = []\n",
    "for i in trange(10):\n",
    "    trial_id = await cog.start_trial(\n",
    "        env_name=\"mcar\",\n",
    "        session_config={\"render\": False},\n",
    "        actor_impls={\n",
    "            \"gym\": \"coltra\",\n",
    "        },\n",
    "    )\n",
    "    multi_data = await format_data_multiagent(datastore=cog.datastore, trial_id=trial_id, actor_agent_specs=cenv.agent_specs)\n",
    "    data = multi_data[\"gym\"]\n",
    "    episodes.append(data)\n",
    "mean_reward = np.mean([sum(e.rewards) for e in episodes])\n",
    "print(f\"mean_reward: {mean_reward}\")"
   ],
   "metadata": {
    "collapsed": false,
    "ExecuteTime": {
     "end_time": "2023-12-13T19:12:54.225530Z",
     "start_time": "2023-12-13T19:12:53.217519Z"
    }
   },
   "id": "b7cde51d7dc0c3a9"
  },
  {
   "cell_type": "code",
   "execution_count": 10,
   "outputs": [
    {
     "data": {
      "text/plain": "True"
     },
     "execution_count": 10,
     "metadata": {},
     "output_type": "execute_result"
    }
   ],
   "source": [
    "# Reinitialize the agent\n",
    "\n",
    "cog.stop_service(\"coltra\")\n",
    "\n",
    "model = MLPModel(\n",
    "    config={\n",
    "    \"hidden_sizes\": [64, 64],\n",
    "    }, \n",
    "    observation_space=cenv.env.observation_space, \n",
    "    action_space=cenv.env.action_space\n",
    ")\n",
    "\n",
    "# Put the model in shared memory so that the actor can access it\n",
    "model.share_memory()\n",
    "actor = ColtraActor(model=model)\n",
    "\n",
    "\n",
    "await cog.run_actor(\n",
    "    actor=actor,\n",
    "    actor_name=\"coltra\",\n",
    "    port=9021,\n",
    "    log_file=\"actor.log\"\n",
    ")"
   ],
   "metadata": {
    "collapsed": false,
    "ExecuteTime": {
     "end_time": "2023-12-13T19:13:03.878130Z",
     "start_time": "2023-12-13T19:13:01.612883Z"
    }
   },
   "id": "5c1585be28fdae6c"
  },
  {
   "cell_type": "code",
   "execution_count": 11,
   "outputs": [],
   "source": [
    "# Get some human episodes\n",
    "episodes = []\n",
    "for i in range(3):\n",
    "    trial_id = await cog.start_trial(\n",
    "        env_name=\"mcar\",\n",
    "        session_config={\"render\": True},\n",
    "        actor_impls={\n",
    "            \"gym\": \"web_ui\",\n",
    "        },\n",
    "    )\n",
    "    multi_data = await cog.get_trial_data(trial_id=trial_id)\n",
    "    data = multi_data[\"gym\"]\n",
    "    episodes.append(data)\n",
    "    \n",
    "all_data = concatenate(episodes)"
   ],
   "metadata": {
    "collapsed": false,
    "ExecuteTime": {
     "end_time": "2023-12-13T19:35:11.374153Z",
     "start_time": "2023-12-13T19:34:33.073648Z"
    }
   },
   "id": "8f1381b80d4c8799"
  },
  {
   "cell_type": "code",
   "execution_count": 12,
   "outputs": [
    {
     "name": "stdout",
     "output_type": "stream",
     "text": [
      "mean_reward: 77.66748484175616\n",
      "rewards: [-90.41456591431051, 277.5436417415343, 45.87337869804469]\n"
     ]
    }
   ],
   "source": [
    "mean_reward = np.mean([sum(e.rewards) for e in episodes])\n",
    "print(f\"mean_reward: {mean_reward}\")\n",
    "print(f\"rewards: {[sum(e.rewards) for e in episodes]}\")"
   ],
   "metadata": {
    "collapsed": false,
    "ExecuteTime": {
     "end_time": "2023-12-13T19:35:19.616407Z",
     "start_time": "2023-12-13T19:35:19.613200Z"
    }
   },
   "id": "73d139b8e5d005d8"
  },
  {
   "cell_type": "code",
   "execution_count": 14,
   "outputs": [],
   "source": [
    "cog.stop_service(\"web_ui\")"
   ],
   "metadata": {
    "collapsed": false,
    "ExecuteTime": {
     "end_time": "2023-12-13T19:35:31.859929Z",
     "start_time": "2023-12-13T19:35:30.845308Z"
    }
   },
   "id": "73c751b525abf31e"
  },
  {
   "cell_type": "code",
   "execution_count": 15,
   "outputs": [],
   "source": [
    "all_obs = Observation(vector=all_data.observations).tensor()\n",
    "all_actions = torch.tensor(all_data.actions)"
   ],
   "metadata": {
    "collapsed": false,
    "ExecuteTime": {
     "end_time": "2023-12-13T19:35:34.727391Z",
     "start_time": "2023-12-13T19:35:34.724168Z"
    }
   },
   "id": "cdcef32e17f9afc1"
  },
  {
   "cell_type": "code",
   "execution_count": 20,
   "outputs": [
    {
     "name": "stderr",
     "output_type": "stream",
     "text": [
      "loss: 0.186: 100%|██████████| 500/500 [00:00<00:00, 738.80it/s]\n"
     ]
    }
   ],
   "source": [
    "losses = []\n",
    "optimizer = torch.optim.Adam(model.parameters(), lr=1e-3)\n",
    "for t in (pbar := trange(500)):\n",
    "    preds = model(all_obs)[0].logits\n",
    "    loss = F.cross_entropy(preds, all_actions)\n",
    "    \n",
    "    optimizer.zero_grad()\n",
    "    loss.backward()\n",
    "    optimizer.step()\n",
    "    \n",
    "    pbar.set_description(f\"loss: {loss.item():.3}\")\n",
    "    \n",
    "    losses.append(loss.item())\n",
    "    "
   ],
   "metadata": {
    "collapsed": false,
    "ExecuteTime": {
     "end_time": "2023-12-13T19:36:04.511395Z",
     "start_time": "2023-12-13T19:36:03.830625Z"
    }
   },
   "id": "9a1cb51957e9f672"
  },
  {
   "cell_type": "code",
   "execution_count": 21,
   "outputs": [
    {
     "data": {
      "text/plain": "[<matplotlib.lines.Line2D at 0x2ad0ec6d0>]"
     },
     "execution_count": 21,
     "metadata": {},
     "output_type": "execute_result"
    },
    {
     "data": {
      "text/plain": "<Figure size 640x480 with 1 Axes>",
      "image/png": "[encoded data removed]"
     },
     "metadata": {},
     "output_type": "display_data"
    }
   ],
   "source": [
    "plt.plot(losses)"
   ],
   "metadata": {
    "collapsed": false,
    "ExecuteTime": {
     "end_time": "2023-12-13T19:36:05.177923Z",
     "start_time": "2023-12-13T19:36:05.113102Z"
    }
   },
   "id": "78ac13e102efe3a0"
  },
  {
   "cell_type": "code",
   "execution_count": 22,
   "outputs": [
    {
     "name": "stderr",
     "output_type": "stream",
     "text": [
      "100%|██████████| 10/10 [00:02<00:00,  4.85it/s]"
     ]
    },
    {
     "name": "stdout",
     "output_type": "stream",
     "text": [
      "mean_reward: -93.20616755490191\n"
     ]
    },
    {
     "name": "stderr",
     "output_type": "stream",
     "text": [
      "\n"
     ]
    }
   ],
   "source": [
    "# Estimate agent performance\n",
    "\n",
    "episodes = []\n",
    "for i in trange(10):\n",
    "    trial_id = await cog.start_trial(\n",
    "        env_name=\"mcar\",\n",
    "        session_config={\"render\": False},\n",
    "        actor_impls={\n",
    "            \"gym\": \"coltra\",\n",
    "        },\n",
    "    )\n",
    "    multi_data = await format_data_multiagent(datastore=cog.datastore, trial_id=trial_id, actor_agent_specs=cenv.agent_specs)\n",
    "    data = multi_data[\"gym\"]\n",
    "    episodes.append(data)\n",
    "mean_reward = np.mean([sum(e.rewards) for e in episodes])\n",
    "print(f\"mean_reward: {mean_reward}\")"
   ],
   "metadata": {
    "collapsed": false,
    "ExecuteTime": {
     "end_time": "2023-12-13T19:36:08.699440Z",
     "start_time": "2023-12-13T19:36:06.634848Z"
    }
   },
   "id": "d221ebfe535f9317"
  },
  {
   "cell_type": "code",
   "execution_count": 24,
   "outputs": [
    {
     "name": "stderr",
     "output_type": "stream",
     "text": [
      "mean_reward: 87.1: 100%|██████████| 100/100 [04:30<00:00,  2.70s/it]\n"
     ]
    },
    {
     "data": {
      "text/plain": "[<matplotlib.lines.Line2D at 0x2ad0f4af0>]"
     },
     "execution_count": 24,
     "metadata": {},
     "output_type": "execute_result"
    },
    {
     "data": {
      "text/plain": "<Figure size 640x480 with 1 Axes>",
      "image/png": "[encoded data removed]"
     },
     "metadata": {},
     "output_type": "display_data"
    }
   ],
   "source": [
    "all_rewards = []\n",
    "\n",
    "ppo = CrowdPPOptimizer(HomogeneousGroup(actor.agent), config={\n",
    "    \"gamma\": 0.99,\n",
    "    \"gae_lambda\": 0.95,\n",
    "    \"minibatch_size\": 256,\n",
    "})\n",
    "\n",
    "for t in (pbar := trange(100)):\n",
    "    num_steps = 0\n",
    "    episodes = []\n",
    "    while num_steps < 2000:\n",
    "        trial_id = await cog.start_trial(\n",
    "            env_name=\"mcar\",\n",
    "            session_config={\"render\": False},\n",
    "            actor_impls={\n",
    "                \"gym\": \"coltra\",\n",
    "            },\n",
    "        )\n",
    "        multi_data = await format_data_multiagent(datastore=cog.datastore, trial_id=trial_id, actor_agent_specs=cenv.agent_specs)\n",
    "        data = multi_data[\"gym\"]\n",
    "        episodes.append(data)\n",
    "        num_steps += len(data.rewards)\n",
    "        \n",
    "    all_data = concatenate(episodes)\n",
    "    \n",
    "    record = convert_trial_data_to_coltra(all_data, actor.agent)\n",
    "    metrics = ppo.train_on_data({\"crowd\": record}, shape=(1,) + record.reward.shape)\n",
    "    \n",
    "    mean_reward = metrics[\"crowd/mean_episode_reward\"]\n",
    "    all_rewards.append(mean_reward)\n",
    "    pbar.set_description(f\"mean_reward: {mean_reward:.3}\")\n",
    "        \n",
    "plt.plot(all_rewards)\n"
   ],
   "metadata": {
    "collapsed": false,
    "ExecuteTime": {
     "end_time": "2023-12-13T19:41:16.217109Z",
     "start_time": "2023-12-13T19:36:45.952578Z"
    }
   },
   "id": "56b220d45561a042"
  },
  {
   "cell_type": "code",
   "execution_count": 25,
   "outputs": [],
   "source": [
    "await cog.cleanup()"
   ],
   "metadata": {
    "collapsed": false,
    "ExecuteTime": {
     "end_time": "2023-12-13T19:41:48.682828Z",
     "start_time": "2023-12-13T19:41:48.645559Z"
    }
   },
   "id": "e23f3f5ecd4ffc2a"
  }
 ],
 "metadata": {
  "kernelspec": {
   "display_name": "Python 3 (ipykernel)",
   "language": "python",
   "name": "python3"
  },
  "language_info": {
   "codemirror_mode": {
    "name": "ipython",
    "version": 3
   },
   "file_extension": ".py",
   "mimetype": "text/x-python",
   "name": "python",
   "nbconvert_exporter": "python",
   "pygments_lexer": "ipython3",
   "version": "3.10.0"
  }
 },
 "nbformat": 4,
 "nbformat_minor": 5
}
