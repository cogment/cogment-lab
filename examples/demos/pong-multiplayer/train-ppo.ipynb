{
 "cells": [
  {
   "cell_type": "code",
   "outputs": [],
   "source": [
    "import datetime\n",
    "\n",
    "import torch\n",
    "\n",
    "from cogment_lab.envs.gymnasium import GymEnvironment\n",
    "from cogment_lab.envs.pettingzoo import ParallelEnvironment\n",
    "from cogment_lab.process_manager import Cogment\n",
    "from cogment_lab.utils.coltra_utils import convert_trial_data_to_coltra\n",
    "from cogment_lab.utils.runners import process_cleanup\n",
    "from cogment_lab.utils.trial_utils import concatenate\n",
    "\n",
    "from coltra import HomogeneousGroup\n",
    "from coltra.buffers import Observation\n",
    "from coltra.models import MLPModel\n",
    "from coltra.policy_optimization import CrowdPPOptimizer\n",
    "\n",
    "from cogment_lab.actors.nn_actor import ColtraActor\n",
    "\n",
    "from tqdm import trange\n",
    "import matplotlib.pyplot as plt\n"
   ],
   "metadata": {
    "collapsed": false,
    "ExecuteTime": {
     "end_time": "2024-02-16T22:24:12.885044Z",
     "start_time": "2024-02-16T22:24:11.469627Z"
    }
   },
   "id": "ae18bdf6be9b04d6",
   "execution_count": 1
  },
  {
   "cell_type": "code",
   "outputs": [
    {
     "name": "stdout",
     "output_type": "stream",
     "text": [
      "logs/logs-2024-02-16T23:24:12.885158\n"
     ]
    }
   ],
   "source": [
    "logpath = f\"logs/logs-{datetime.datetime.now().isoformat()}\"\n",
    "\n",
    "cog = Cogment(log_dir=logpath)\n",
    "\n",
    "print(logpath) "
   ],
   "metadata": {
    "collapsed": false,
    "ExecuteTime": {
     "end_time": "2024-02-16T22:24:12.888832Z",
     "start_time": "2024-02-16T22:24:12.886164Z"
    }
   },
   "id": "57591f82d1bf34bb",
   "execution_count": 2
  },
  {
   "cell_type": "code",
   "outputs": [
    {
     "data": {
      "text/plain": "True"
     },
     "execution_count": 3,
     "metadata": {},
     "output_type": "execute_result"
    }
   ],
   "source": [
    "# Launch an environment in a subprocess\n",
    "\n",
    "cenv = ParallelEnvironment(env_path=\"pettingzoo.butterfly.cooperative_pong_v5.parallel_env\",\n",
    "                      render=True,\n",
    "                           make_kwargs={\"bounce_randomness\": True, \"cake_paddle\": False})\n",
    "\n",
    "# cenv = ParallelEnvironment(env_path=\"utils.PongEnv\",\n",
    "#                       render=False)\n",
    "\n",
    "await cog.run_env(env=cenv, \n",
    "                  env_name=\"pong\",\n",
    "                  port=9011, \n",
    "                  log_file=\"env.log\")\n"
   ],
   "metadata": {
    "collapsed": false,
    "ExecuteTime": {
     "end_time": "2024-02-16T22:24:14.990845Z",
     "start_time": "2024-02-16T22:24:14.167795Z"
    }
   },
   "id": "841ec2e8b0e0433f",
   "execution_count": 3
  },
  {
   "cell_type": "code",
   "outputs": [
    {
     "data": {
      "text/plain": "Discrete(3)"
     },
     "execution_count": 4,
     "metadata": {},
     "output_type": "execute_result"
    }
   ],
   "source": [
    "cenv.env.action_space(\"paddle_0\")"
   ],
   "metadata": {
    "collapsed": false,
    "ExecuteTime": {
     "end_time": "2024-02-16T22:24:14.998795Z",
     "start_time": "2024-02-16T22:24:14.991362Z"
    }
   },
   "id": "a4fb51af6f5c8e59",
   "execution_count": 4
  },
  {
   "cell_type": "code",
   "outputs": [
    {
     "data": {
      "text/plain": "True"
     },
     "execution_count": 5,
     "metadata": {},
     "output_type": "execute_result"
    }
   ],
   "source": [
    "from coltra.envs.spaces import ObservationSpace\n",
    "import numpy as np\n",
    "from coltra import DAgent, CAgent, Observation\n",
    "from cogment_lab.core import CogmentActor\n",
    "from cogment_lab.actors.nn_actor import ColtraActor\n",
    "from coltra.models import MLPModel, BaseModel, ImageMLPModel\n",
    "\n",
    "from utils import ColtraImageActor, FloatImageMLPModel\n",
    "\n",
    "# Create a model using coltra\n",
    "\n",
    "model = FloatImageMLPModel(\n",
    "    config={\n",
    "    \"hidden_sizes\": [64, 64],\n",
    "    }, \n",
    "    observation_space=ObservationSpace(image=cenv.env.observation_space(\"paddle_0\")), \n",
    "    action_space=cenv.env.action_space(\"paddle_0\")\n",
    ")\n",
    "\n",
    "# Put the model in shared memory so that the actor can access it\n",
    "model.share_memory()\n",
    "actor = ColtraImageActor(model=model)\n",
    "\n",
    "\n",
    "await cog.run_actor(\n",
    "    actor=actor,\n",
    "    actor_name=\"coltra\",\n",
    "    port=9021,\n",
    "    log_file=\"actor.log\"\n",
    ")"
   ],
   "metadata": {
    "collapsed": false,
    "ExecuteTime": {
     "end_time": "2024-02-16T22:24:20.273961Z",
     "start_time": "2024-02-16T22:24:18.456459Z"
    }
   },
   "id": "4caf921e07e8b41",
   "execution_count": 5
  },
  {
   "cell_type": "code",
   "outputs": [
    {
     "data": {
      "text/plain": "{'pong': <SpawnProcess name='cogment_lab_pong' pid=12079 parent=12071 started>,\n 'coltra': <SpawnProcess name='cogment_lab_coltra' pid=12087 parent=12071 started>}"
     },
     "execution_count": 6,
     "metadata": {},
     "output_type": "execute_result"
    }
   ],
   "source": [
    "cog.processes"
   ],
   "metadata": {
    "collapsed": false,
    "ExecuteTime": {
     "end_time": "2024-02-16T17:26:39.515796Z",
     "start_time": "2024-02-16T17:26:39.511987Z"
    }
   },
   "id": "ef047d1e0d9eae7",
   "execution_count": 6
  },
  {
   "cell_type": "code",
   "outputs": [],
   "source": [
    "ppo = CrowdPPOptimizer(HomogeneousGroup(actor.agent), config={\n",
    "    \"gae_lambda\": 0.95,\n",
    "    \"minibatch_size\": 128,\n",
    "})"
   ],
   "metadata": {
    "collapsed": false,
    "ExecuteTime": {
     "end_time": "2024-02-16T17:26:39.722372Z",
     "start_time": "2024-02-16T17:26:39.517711Z"
    }
   },
   "id": "a8387d924a30031",
   "execution_count": 7
  },
  {
   "cell_type": "code",
   "outputs": [
    {
     "name": "stderr",
     "output_type": "stream",
     "text": [
      "mean_reward: 57.7:  70%|██████▉   | 1391/2000 [4:37:09<2:01:20, 11.96s/it] \n"
     ]
    },
    {
     "ename": "ValueError",
     "evalue": "No samples provided",
     "output_type": "error",
     "traceback": [
      "\u001B[0;31m---------------------------------------------------------------------------\u001B[0m",
      "\u001B[0;31mValueError\u001B[0m                                Traceback (most recent call last)",
      "Cell \u001B[0;32mIn[8], line 15\u001B[0m\n\u001B[1;32m      5\u001B[0m episodes \u001B[38;5;241m=\u001B[39m []\n\u001B[1;32m      7\u001B[0m trial_id \u001B[38;5;241m=\u001B[39m \u001B[38;5;28;01mawait\u001B[39;00m cog\u001B[38;5;241m.\u001B[39mstart_trial(\n\u001B[1;32m      8\u001B[0m     env_name\u001B[38;5;241m=\u001B[39m\u001B[38;5;124m\"\u001B[39m\u001B[38;5;124mpong\u001B[39m\u001B[38;5;124m\"\u001B[39m,\n\u001B[1;32m      9\u001B[0m     session_config\u001B[38;5;241m=\u001B[39m{\u001B[38;5;124m\"\u001B[39m\u001B[38;5;124mrender\u001B[39m\u001B[38;5;124m\"\u001B[39m: \u001B[38;5;28;01mFalse\u001B[39;00m},\n\u001B[0;32m   (...)\u001B[0m\n\u001B[1;32m     13\u001B[0m     },\n\u001B[1;32m     14\u001B[0m )\n\u001B[0;32m---> 15\u001B[0m multi_data \u001B[38;5;241m=\u001B[39m \u001B[38;5;28;01mawait\u001B[39;00m cog\u001B[38;5;241m.\u001B[39mget_trial_data(trial_id\u001B[38;5;241m=\u001B[39mtrial_id, env_name\u001B[38;5;241m=\u001B[39m\u001B[38;5;124m\"\u001B[39m\u001B[38;5;124mpong\u001B[39m\u001B[38;5;124m\"\u001B[39m)\n\u001B[1;32m     16\u001B[0m \u001B[38;5;66;03m# data = multi_data[\"gym\"]\u001B[39;00m\n\u001B[1;32m     18\u001B[0m all_data \u001B[38;5;241m=\u001B[39m concatenate([multi_data[\u001B[38;5;124m\"\u001B[39m\u001B[38;5;124mpaddle_0\u001B[39m\u001B[38;5;124m\"\u001B[39m], multi_data[\u001B[38;5;124m\"\u001B[39m\u001B[38;5;124mpaddle_1\u001B[39m\u001B[38;5;124m\"\u001B[39m]])\n",
      "File \u001B[0;32m~/projects/air/cogment-lab/cogment_lab/process_manager.py:516\u001B[0m, in \u001B[0;36mCogment.get_trial_data\u001B[0;34m(self, trial_id, env_name, fields, use_tqdm, tqdm_kwargs)\u001B[0m\n\u001B[1;32m    513\u001B[0m env \u001B[38;5;241m=\u001B[39m \u001B[38;5;28mself\u001B[39m\u001B[38;5;241m.\u001B[39menvs[env_name]\n\u001B[1;32m    514\u001B[0m agent_specs \u001B[38;5;241m=\u001B[39m env\u001B[38;5;241m.\u001B[39magent_specs\n\u001B[0;32m--> 516\u001B[0m data \u001B[38;5;241m=\u001B[39m \u001B[38;5;28;01mawait\u001B[39;00m format_data_multiagent(\n\u001B[1;32m    517\u001B[0m     datastore\u001B[38;5;241m=\u001B[39m\u001B[38;5;28mself\u001B[39m\u001B[38;5;241m.\u001B[39mdatastore,\n\u001B[1;32m    518\u001B[0m     trial_id\u001B[38;5;241m=\u001B[39mtrial_id,\n\u001B[1;32m    519\u001B[0m     actor_agent_specs\u001B[38;5;241m=\u001B[39magent_specs,\n\u001B[1;32m    520\u001B[0m     fields\u001B[38;5;241m=\u001B[39mfields,\n\u001B[1;32m    521\u001B[0m     use_tqdm\u001B[38;5;241m=\u001B[39muse_tqdm,\n\u001B[1;32m    522\u001B[0m     tqdm_kwargs\u001B[38;5;241m=\u001B[39mtqdm_kwargs,\n\u001B[1;32m    523\u001B[0m )\n\u001B[1;32m    525\u001B[0m \u001B[38;5;28;01mreturn\u001B[39;00m data\n",
      "File \u001B[0;32m~/projects/air/cogment-lab/cogment_lab/utils/trial_utils.py:359\u001B[0m, in \u001B[0;36mformat_data_multiagent\u001B[0;34m(datastore, trial_id, actor_agent_specs, fields, use_tqdm, tqdm_kwargs)\u001B[0m\n\u001B[1;32m    356\u001B[0m actor_data \u001B[38;5;241m=\u001B[39m {}\n\u001B[1;32m    358\u001B[0m \u001B[38;5;28;01mfor\u001B[39;00m actor_id, samples \u001B[38;5;129;01min\u001B[39;00m actor_samples\u001B[38;5;241m.\u001B[39mitems():\n\u001B[0;32m--> 359\u001B[0m     actor_data[actor_id] \u001B[38;5;241m=\u001B[39m \u001B[43mextract_data_from_samples\u001B[49m\u001B[43m(\u001B[49m\n\u001B[1;32m    360\u001B[0m \u001B[43m        \u001B[49m\u001B[43msamples\u001B[49m\u001B[43m,\u001B[49m\u001B[43m \u001B[49m\u001B[43mactor_agent_specs\u001B[49m\u001B[43m[\u001B[49m\u001B[43mactor_id\u001B[49m\u001B[43m]\u001B[49m\u001B[43m,\u001B[49m\u001B[43m \u001B[49m\u001B[43mfields\u001B[49m\u001B[43m,\u001B[49m\u001B[43m \u001B[49m\u001B[43mactor_name\u001B[49m\u001B[38;5;241;43m=\u001B[39;49m\u001B[43mactor_id\u001B[49m\n\u001B[1;32m    361\u001B[0m \u001B[43m    \u001B[49m\u001B[43m)\u001B[49m\n\u001B[1;32m    363\u001B[0m \u001B[38;5;28;01mfor\u001B[39;00m actor_id, reward_samples \u001B[38;5;129;01min\u001B[39;00m actor_reward_samples\u001B[38;5;241m.\u001B[39mitems():\n\u001B[1;32m    364\u001B[0m     actor_data[actor_id]\u001B[38;5;241m.\u001B[39mrewards \u001B[38;5;241m=\u001B[39m extract_rewards_from_samples(reward_samples, actor_name\u001B[38;5;241m=\u001B[39mactor_id)\n",
      "File \u001B[0;32m~/projects/air/cogment-lab/cogment_lab/utils/trial_utils.py:163\u001B[0m, in \u001B[0;36mextract_data_from_samples\u001B[0;34m(samples, agent_specs, fields, actor_name)\u001B[0m\n\u001B[1;32m    161\u001B[0m sample_count \u001B[38;5;241m=\u001B[39m \u001B[38;5;28mlen\u001B[39m(samples)\n\u001B[1;32m    162\u001B[0m \u001B[38;5;28;01mif\u001B[39;00m sample_count \u001B[38;5;241m==\u001B[39m \u001B[38;5;241m0\u001B[39m:\n\u001B[0;32m--> 163\u001B[0m     \u001B[38;5;28;01mraise\u001B[39;00m \u001B[38;5;167;01mValueError\u001B[39;00m(\u001B[38;5;124m\"\u001B[39m\u001B[38;5;124mNo samples provided\u001B[39m\u001B[38;5;124m\"\u001B[39m)\n\u001B[1;32m    165\u001B[0m cog_observation_space \u001B[38;5;241m=\u001B[39m agent_specs\u001B[38;5;241m.\u001B[39mget_observation_space()\n\u001B[1;32m    166\u001B[0m observation_space \u001B[38;5;241m=\u001B[39m cog_observation_space\u001B[38;5;241m.\u001B[39mgym_space\n",
      "\u001B[0;31mValueError\u001B[0m: No samples provided"
     ]
    }
   ],
   "source": [
    "all_rewards = []\n",
    "\n",
    "for t in (pbar := trange(2_000)):\n",
    "    num_steps = 0\n",
    "    episodes = []\n",
    "\n",
    "    trial_id = await cog.start_trial(\n",
    "        env_name=\"pong\",\n",
    "        session_config={\"render\": False},\n",
    "        actor_impls={\n",
    "            \"paddle_0\": \"coltra\",\n",
    "            \"paddle_1\": \"coltra\"\n",
    "        },\n",
    "    )\n",
    "    multi_data = await cog.get_trial_data(trial_id=trial_id, env_name=\"pong\")\n",
    "    # data = multi_data[\"gym\"]\n",
    "        \n",
    "    all_data = concatenate([multi_data[\"paddle_0\"], multi_data[\"paddle_1\"]])\n",
    "    all_data.observations = all_data.observations.reshape(all_data.observations.shape[0], -1).astype(np.float32) / 255.\n",
    "    all_data.last_observation = all_data.last_observation.reshape(all_data.last_observation.shape[0], -1).astype(np.float32) / 255.\n",
    "\n",
    "    # Preprocess data\n",
    "    record = convert_trial_data_to_coltra(all_data, actor.agent)\n",
    "\n",
    "    # Run a PPO step\n",
    "    metrics = ppo.train_on_data({\"crowd\": record}, shape=(1,) + record.reward.shape)\n",
    "    \n",
    "    mean_reward = metrics[\"crowd/mean_episode_reward\"]\n",
    "    all_rewards.append(mean_reward)\n",
    "    pbar.set_description(f\"mean_reward: {mean_reward:.3}\")\n",
    "    \n",
    "    if t % 100 == 0:\n",
    "      state_dict = model.state_dict()\n",
    "      torch.save(state_dict, f\"models/model_{t}.pth\")"
   ],
   "metadata": {
    "collapsed": false,
    "ExecuteTime": {
     "end_time": "2024-02-16T22:03:49.789653Z",
     "start_time": "2024-02-16T17:26:39.723981Z"
    }
   },
   "id": "426fd254873b8466",
   "execution_count": 8
  },
  {
   "cell_type": "code",
   "outputs": [
    {
     "data": {
      "text/plain": "[<matplotlib.lines.Line2D at 0x33c4b6080>]"
     },
     "execution_count": 9,
     "metadata": {},
     "output_type": "execute_result"
    },
    {
     "data": {
      "text/plain": "<Figure size 640x480 with 1 Axes>",
      "image/png": "[encoded data removed]"
     },
     "metadata": {},
     "output_type": "display_data"
    }
   ],
   "source": [
    "plt.plot(all_rewards)"
   ],
   "metadata": {
    "collapsed": false,
    "ExecuteTime": {
     "end_time": "2024-02-16T22:03:57.005733Z",
     "start_time": "2024-02-16T22:03:56.864684Z"
    }
   },
   "id": "c8afda46e3c79cf3",
   "execution_count": 9
  },
  {
   "cell_type": "code",
   "outputs": [],
   "source": [
    "import torch\n",
    "\n",
    "torch.save(model.state_dict(), \"model.pth\")"
   ],
   "metadata": {
    "collapsed": false,
    "ExecuteTime": {
     "end_time": "2024-02-16T17:07:37.597554Z",
     "start_time": "2024-02-16T17:07:37.428788Z"
    }
   },
   "id": "14da818f0fc53e58",
   "execution_count": 11
  },
  {
   "cell_type": "code",
   "outputs": [
    {
     "data": {
      "text/plain": "<All keys matched successfully>"
     },
     "execution_count": 10,
     "metadata": {},
     "output_type": "execute_result"
    }
   ],
   "source": [
    "import torch\n",
    "\n",
    "state_dict = torch.load(\"models/model_1000.pth\")\n",
    "model.load_state_dict(state_dict)"
   ],
   "metadata": {
    "collapsed": false,
    "ExecuteTime": {
     "end_time": "2024-02-16T22:24:59.463675Z",
     "start_time": "2024-02-16T22:24:59.411132Z"
    }
   },
   "id": "ac65b7da064c23f",
   "execution_count": 10
  },
  {
   "cell_type": "code",
   "outputs": [
    {
     "data": {
      "text/plain": "True"
     },
     "execution_count": 7,
     "metadata": {},
     "output_type": "execute_result"
    }
   ],
   "source": [
    "PONG_ACTIONS = [\"no-op\", \"ArrowUp\", \"ArrowDown\"]\n",
    "\n",
    "actions = PONG_ACTIONS\n",
    "await cog.run_web_ui(actions=actions, log_file=\"human.log\", fps=30)"
   ],
   "metadata": {
    "collapsed": false,
    "ExecuteTime": {
     "end_time": "2024-02-16T22:24:27.047709Z",
     "start_time": "2024-02-16T22:24:26.501042Z"
    }
   },
   "id": "8c718662ac8b6719",
   "execution_count": 7
  },
  {
   "cell_type": "code",
   "outputs": [
    {
     "ename": "ValueError",
     "evalue": "No samples provided",
     "output_type": "error",
     "traceback": [
      "\u001B[0;31m---------------------------------------------------------------------------\u001B[0m",
      "\u001B[0;31mValueError\u001B[0m                                Traceback (most recent call last)",
      "Cell \u001B[0;32mIn[34], line 10\u001B[0m\n\u001B[1;32m      1\u001B[0m trial_id \u001B[38;5;241m=\u001B[39m \u001B[38;5;28;01mawait\u001B[39;00m cog\u001B[38;5;241m.\u001B[39mstart_trial(\n\u001B[1;32m      2\u001B[0m     env_name\u001B[38;5;241m=\u001B[39m\u001B[38;5;124m\"\u001B[39m\u001B[38;5;124mpong\u001B[39m\u001B[38;5;124m\"\u001B[39m,\n\u001B[1;32m      3\u001B[0m     session_config\u001B[38;5;241m=\u001B[39m{\u001B[38;5;124m\"\u001B[39m\u001B[38;5;124mrender\u001B[39m\u001B[38;5;124m\"\u001B[39m: \u001B[38;5;28;01mTrue\u001B[39;00m},\n\u001B[0;32m   (...)\u001B[0m\n\u001B[1;32m      7\u001B[0m     },\n\u001B[1;32m      8\u001B[0m )\n\u001B[0;32m---> 10\u001B[0m data \u001B[38;5;241m=\u001B[39m \u001B[38;5;28;01mawait\u001B[39;00m cog\u001B[38;5;241m.\u001B[39mget_trial_data(trial_id)\n",
      "File \u001B[0;32m~/projects/air/cogment-lab/cogment_lab/process_manager.py:516\u001B[0m, in \u001B[0;36mCogment.get_trial_data\u001B[0;34m(self, trial_id, env_name, fields, use_tqdm, tqdm_kwargs)\u001B[0m\n\u001B[1;32m    513\u001B[0m env \u001B[38;5;241m=\u001B[39m \u001B[38;5;28mself\u001B[39m\u001B[38;5;241m.\u001B[39menvs[env_name]\n\u001B[1;32m    514\u001B[0m agent_specs \u001B[38;5;241m=\u001B[39m env\u001B[38;5;241m.\u001B[39magent_specs\n\u001B[0;32m--> 516\u001B[0m data \u001B[38;5;241m=\u001B[39m \u001B[38;5;28;01mawait\u001B[39;00m format_data_multiagent(\n\u001B[1;32m    517\u001B[0m     datastore\u001B[38;5;241m=\u001B[39m\u001B[38;5;28mself\u001B[39m\u001B[38;5;241m.\u001B[39mdatastore,\n\u001B[1;32m    518\u001B[0m     trial_id\u001B[38;5;241m=\u001B[39mtrial_id,\n\u001B[1;32m    519\u001B[0m     actor_agent_specs\u001B[38;5;241m=\u001B[39magent_specs,\n\u001B[1;32m    520\u001B[0m     fields\u001B[38;5;241m=\u001B[39mfields,\n\u001B[1;32m    521\u001B[0m     use_tqdm\u001B[38;5;241m=\u001B[39muse_tqdm,\n\u001B[1;32m    522\u001B[0m     tqdm_kwargs\u001B[38;5;241m=\u001B[39mtqdm_kwargs,\n\u001B[1;32m    523\u001B[0m )\n\u001B[1;32m    525\u001B[0m \u001B[38;5;28;01mreturn\u001B[39;00m data\n",
      "File \u001B[0;32m~/projects/air/cogment-lab/cogment_lab/utils/trial_utils.py:359\u001B[0m, in \u001B[0;36mformat_data_multiagent\u001B[0;34m(datastore, trial_id, actor_agent_specs, fields, use_tqdm, tqdm_kwargs)\u001B[0m\n\u001B[1;32m    356\u001B[0m actor_data \u001B[38;5;241m=\u001B[39m {}\n\u001B[1;32m    358\u001B[0m \u001B[38;5;28;01mfor\u001B[39;00m actor_id, samples \u001B[38;5;129;01min\u001B[39;00m actor_samples\u001B[38;5;241m.\u001B[39mitems():\n\u001B[0;32m--> 359\u001B[0m     actor_data[actor_id] \u001B[38;5;241m=\u001B[39m \u001B[43mextract_data_from_samples\u001B[49m\u001B[43m(\u001B[49m\n\u001B[1;32m    360\u001B[0m \u001B[43m        \u001B[49m\u001B[43msamples\u001B[49m\u001B[43m,\u001B[49m\u001B[43m \u001B[49m\u001B[43mactor_agent_specs\u001B[49m\u001B[43m[\u001B[49m\u001B[43mactor_id\u001B[49m\u001B[43m]\u001B[49m\u001B[43m,\u001B[49m\u001B[43m \u001B[49m\u001B[43mfields\u001B[49m\u001B[43m,\u001B[49m\u001B[43m \u001B[49m\u001B[43mactor_name\u001B[49m\u001B[38;5;241;43m=\u001B[39;49m\u001B[43mactor_id\u001B[49m\n\u001B[1;32m    361\u001B[0m \u001B[43m    \u001B[49m\u001B[43m)\u001B[49m\n\u001B[1;32m    363\u001B[0m \u001B[38;5;28;01mfor\u001B[39;00m actor_id, reward_samples \u001B[38;5;129;01min\u001B[39;00m actor_reward_samples\u001B[38;5;241m.\u001B[39mitems():\n\u001B[1;32m    364\u001B[0m     actor_data[actor_id]\u001B[38;5;241m.\u001B[39mrewards \u001B[38;5;241m=\u001B[39m extract_rewards_from_samples(reward_samples, actor_name\u001B[38;5;241m=\u001B[39mactor_id)\n",
      "File \u001B[0;32m~/projects/air/cogment-lab/cogment_lab/utils/trial_utils.py:163\u001B[0m, in \u001B[0;36mextract_data_from_samples\u001B[0;34m(samples, agent_specs, fields, actor_name)\u001B[0m\n\u001B[1;32m    161\u001B[0m sample_count \u001B[38;5;241m=\u001B[39m \u001B[38;5;28mlen\u001B[39m(samples)\n\u001B[1;32m    162\u001B[0m \u001B[38;5;28;01mif\u001B[39;00m sample_count \u001B[38;5;241m==\u001B[39m \u001B[38;5;241m0\u001B[39m:\n\u001B[0;32m--> 163\u001B[0m     \u001B[38;5;28;01mraise\u001B[39;00m \u001B[38;5;167;01mValueError\u001B[39;00m(\u001B[38;5;124m\"\u001B[39m\u001B[38;5;124mNo samples provided\u001B[39m\u001B[38;5;124m\"\u001B[39m)\n\u001B[1;32m    165\u001B[0m cog_observation_space \u001B[38;5;241m=\u001B[39m agent_specs\u001B[38;5;241m.\u001B[39mget_observation_space()\n\u001B[1;32m    166\u001B[0m observation_space \u001B[38;5;241m=\u001B[39m cog_observation_space\u001B[38;5;241m.\u001B[39mgym_space\n",
      "\u001B[0;31mValueError\u001B[0m: No samples provided"
     ]
    }
   ],
   "source": [
    "trial_id = await cog.start_trial(\n",
    "    env_name=\"pong\",\n",
    "    session_config={\"render\": True},\n",
    "    actor_impls={\n",
    "        \"paddle_0\": \"coltra\",\n",
    "        \"paddle_1\": \"web_ui\",\n",
    "    },\n",
    ")\n",
    "\n",
    "data = await cog.get_trial_data(trial_id)\n"
   ],
   "metadata": {
    "collapsed": false,
    "ExecuteTime": {
     "end_time": "2024-02-16T22:29:35.106072Z",
     "start_time": "2024-02-16T22:29:34.903722Z"
    }
   },
   "id": "7867d5bd495d8c30",
   "execution_count": 34
  }
 ],
 "metadata": {
  "kernelspec": {
   "display_name": "Python 3",
   "language": "python",
   "name": "python3"
  },
  "language_info": {
   "codemirror_mode": {
    "name": "ipython",
    "version": 2
   },
   "file_extension": ".py",
   "mimetype": "text/x-python",
   "name": "python",
   "nbconvert_exporter": "python",
   "pygments_lexer": "ipython2",
   "version": "2.7.6"
  }
 },
 "nbformat": 4,
 "nbformat_minor": 5
}
