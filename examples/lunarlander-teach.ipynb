{
 "cells": [
  {
   "cell_type": "code",
   "execution_count": 1,
   "id": "initial_id",
   "metadata": {
    "ExecuteTime": {
     "end_time": "2024-01-15T15:16:54.108165Z",
     "start_time": "2024-01-15T15:16:52.130847Z"
    }
   },
   "outputs": [],
   "source": [
    "import datetime\n",
    "import os\n",
    "\n",
    "from cogment_lab.envs.gymnasium import GymEnvironment\n",
    "from cogment_lab.envs.pettingzoo import AECEnvironment\n",
    "from cogment_lab.process_manager import Cogment\n",
    "from cogment_lab.utils.coltra_utils import convert_trial_data_to_coltra\n",
    "from cogment_lab.utils.runners import process_cleanup\n",
    "from cogment_lab.utils.trial_utils import format_data_multiagent, concatenate\n",
    "\n",
    "from coltra import HomogeneousGroup, DAgent\n",
    "from coltra.buffers import Observation\n",
    "from coltra.models import MLPModel\n",
    "from coltra.policy_optimization import CrowdPPOptimizer\n",
    "\n",
    "from cogment_lab.actors.nn_actor import ColtraActor, RandomActor, ConstantActor\n",
    "\n",
    "from tqdm import trange\n",
    "import matplotlib.pyplot as plt\n"
   ]
  },
  {
   "cell_type": "code",
   "execution_count": 2,
   "outputs": [
    {
     "name": "stdout",
     "output_type": "stream",
     "text": [
      "Processes terminated successfully.\n"
     ]
    }
   ],
   "source": [
    "# Cleans up potentially hanging background processes from previous runs\n",
    "process_cleanup()"
   ],
   "metadata": {
    "collapsed": false,
    "ExecuteTime": {
     "end_time": "2024-01-15T15:16:54.168837Z",
     "start_time": "2024-01-15T15:16:54.116233Z"
    }
   },
   "id": "d431ab6f9d8d29cb"
  },
  {
   "cell_type": "code",
   "execution_count": 3,
   "id": "2658232039e652c3",
   "metadata": {
    "collapsed": false,
    "ExecuteTime": {
     "end_time": "2024-01-15T15:16:55.754069Z",
     "start_time": "2024-01-15T15:16:55.749952Z"
    }
   },
   "outputs": [
    {
     "name": "stdout",
     "output_type": "stream",
     "text": [
      "logs/logs-2024-01-15T16:16:55.746880\n"
     ]
    }
   ],
   "source": [
    "logpath = f\"logs/logs-{datetime.datetime.now().isoformat()}\"\n",
    "\n",
    "cog = Cogment(log_dir=logpath)\n",
    "\n",
    "print(logpath)"
   ]
  },
  {
   "cell_type": "code",
   "execution_count": 4,
   "id": "a074d1b3-b399-4e34-a68b-e86adb20caee",
   "metadata": {
    "collapsed": false,
    "ExecuteTime": {
     "end_time": "2024-01-15T15:17:00.641327Z",
     "start_time": "2024-01-15T15:16:58.281030Z"
    }
   },
   "outputs": [
    {
     "data": {
      "text/plain": "True"
     },
     "execution_count": 4,
     "metadata": {},
     "output_type": "execute_result"
    }
   ],
   "source": [
    "cenv = GymEnvironment(\n",
    "    env_id=\"LunarLander-v2\",\n",
    "    render=False,\n",
    ")\n",
    "\n",
    "await cog.run_env(env=cenv, \n",
    "                  env_name=\"lunar\",\n",
    "                  port=9011, \n",
    "                  log_file=\"env.log\")\n"
   ]
  },
  {
   "cell_type": "code",
   "execution_count": 5,
   "id": "3374d134b845beb2",
   "metadata": {
    "collapsed": false,
    "ExecuteTime": {
     "end_time": "2024-01-15T15:17:27.461202Z",
     "start_time": "2024-01-15T15:17:20.645759Z"
    }
   },
   "outputs": [
    {
     "data": {
      "text/plain": "True"
     },
     "execution_count": 5,
     "metadata": {},
     "output_type": "execute_result"
    }
   ],
   "source": [
    "# Create a model using coltra\n",
    "\n",
    "if os.path.exists(\"models/lunar\"):\n",
    "    agent = DAgent.load(\"models/lunar\")\n",
    "    model = agent.model\n",
    "else:\n",
    "    model = MLPModel(\n",
    "        config={\n",
    "        \"hidden_sizes\": [64, 64],\n",
    "        }, \n",
    "        observation_space=cenv.env.observation_space, \n",
    "        action_space=cenv.env.action_space\n",
    "    )\n",
    "\n",
    "# Put the model in shared memory so that the actor can access it\n",
    "model.share_memory()\n",
    "actor = ColtraActor(model=model)\n",
    "\n",
    "\n",
    "await cog.run_actor(\n",
    "    actor=actor,\n",
    "    actor_name=\"coltra\",\n",
    "    port=9021,\n",
    "    log_file=\"actor.log\"\n",
    ")\n",
    "\n",
    "random_actor = RandomActor(cenv.env.action_space)\n",
    "constant_actor = ConstantActor(0)\n",
    "\n",
    "await cog.run_actor(actor=random_actor, \n",
    "                    actor_name=\"random\", \n",
    "                    port=9022, \n",
    "                    log_file=\"actor-random.log\")\n",
    "\n",
    "await cog.run_actor(actor=constant_actor,\n",
    "                    actor_name=\"constant\",\n",
    "                    port=9023,\n",
    "                    log_file=\"actor-constant.log\")"
   ]
  },
  {
   "cell_type": "code",
   "execution_count": 6,
   "outputs": [],
   "source": [
    "ppo = CrowdPPOptimizer(HomogeneousGroup(actor.agent), config={\n",
    "    \"gae_lambda\": 0.95,\n",
    "    \"minibatch_size\": 128,\n",
    "})"
   ],
   "metadata": {
    "collapsed": false,
    "ExecuteTime": {
     "end_time": "2024-01-15T15:17:36.574395Z",
     "start_time": "2024-01-15T15:17:36.402215Z"
    }
   },
   "id": "582b6bb1bf0c81df"
  },
  {
   "cell_type": "code",
   "execution_count": 7,
   "outputs": [
    {
     "name": "stderr",
     "output_type": "stream",
     "text": [
      "mean_reward: -96.0: 100%|██████████| 100/100 [02:15<00:00,  1.35s/it]   \n"
     ]
    }
   ],
   "source": [
    "all_rewards = []\n",
    "\n",
    "for t in (pbar := trange(100)):\n",
    "    num_steps = 0\n",
    "    episodes = []\n",
    "    while num_steps < 1000:  # Collect at least 1000 steps per training iteration\n",
    "        trial_id = await cog.start_trial(\n",
    "            env_name=\"lunar\",\n",
    "            session_config={\"render\": False},\n",
    "            actor_impls={\n",
    "                \"gym\": \"coltra\",\n",
    "            },\n",
    "        )\n",
    "        multi_data = await cog.get_trial_data(trial_id=trial_id, env_name=\"lunar\")\n",
    "        data = multi_data[\"gym\"]\n",
    "        episodes.append(data)\n",
    "        num_steps += len(data.rewards)\n",
    "        \n",
    "    all_data = concatenate(episodes)\n",
    "\n",
    "    # Preprocess data\n",
    "    record = convert_trial_data_to_coltra(all_data, actor.agent)\n",
    "\n",
    "    # Run a PPO step\n",
    "    metrics = ppo.train_on_data({\"crowd\": record}, shape=(1,) + record.reward.shape)\n",
    "    \n",
    "    mean_reward = metrics[\"crowd/mean_episode_reward\"]\n",
    "    all_rewards.append(mean_reward)\n",
    "    pbar.set_description(f\"mean_reward: {mean_reward:.3}\")\n",
    "    \n"
   ],
   "metadata": {
    "collapsed": false,
    "ExecuteTime": {
     "end_time": "2024-01-15T15:20:01.409375Z",
     "start_time": "2024-01-15T15:17:45.954719Z"
    }
   },
   "id": "56b220d45561a042"
  },
  {
   "cell_type": "code",
   "execution_count": 9,
   "outputs": [
    {
     "data": {
      "text/plain": "[<matplotlib.lines.Line2D at 0x2c3804820>]"
     },
     "execution_count": 9,
     "metadata": {},
     "output_type": "execute_result"
    },
    {
     "data": {
      "text/plain": "<Figure size 640x480 with 1 Axes>",
      "image/png": "[encoded data removed]"
     },
     "metadata": {},
     "output_type": "display_data"
    }
   ],
   "source": [
    "plt.plot(all_rewards)"
   ],
   "metadata": {
    "collapsed": false,
    "ExecuteTime": {
     "end_time": "2024-01-15T15:22:36.059537Z",
     "start_time": "2024-01-15T15:22:35.985945Z"
    }
   },
   "id": "457bbd9d81cac391"
  },
  {
   "cell_type": "code",
   "execution_count": 10,
   "outputs": [],
   "source": [
    "cog.stop_service(\"lunar\")"
   ],
   "metadata": {
    "collapsed": false,
    "ExecuteTime": {
     "end_time": "2024-01-15T15:22:39.592481Z",
     "start_time": "2024-01-15T15:22:39.571297Z"
    }
   },
   "id": "4099d057af5affcf"
  },
  {
   "cell_type": "code",
   "execution_count": 11,
   "outputs": [
    {
     "data": {
      "text/plain": "True"
     },
     "execution_count": 11,
     "metadata": {},
     "output_type": "execute_result"
    }
   ],
   "source": [
    "cenv = AECEnvironment(env_path=\"cogment_lab.envs.conversions.teacher.GymTeacherAEC\",\n",
    "                      make_kwargs={\"gym_env_name\": \"LunarLander-v2\", \n",
    "                                   \"gym_make_kwargs\": {}, \n",
    "                                   \"render_mode\": \"rgb_array\"},\n",
    "                      render=True)\n",
    "\n",
    "await cog.run_env(env=cenv, \n",
    "                  env_name=\"lunar-teach\",\n",
    "                  port=9011, \n",
    "                  log_file=\"env.log\")"
   ],
   "metadata": {
    "collapsed": false,
    "ExecuteTime": {
     "end_time": "2024-01-15T15:22:53.079736Z",
     "start_time": "2024-01-15T15:22:50.933845Z"
    }
   },
   "id": "8dc36a4b38990059"
  },
  {
   "cell_type": "code",
   "execution_count": 12,
   "outputs": [
    {
     "data": {
      "text/plain": "True"
     },
     "execution_count": 12,
     "metadata": {},
     "output_type": "execute_result"
    }
   ],
   "source": [
    "actions = {\n",
    "    \"no-op\": {\"active\": 0, \"action\": 0},\n",
    "    \"ArrowDown\": {\"active\": 1, \"action\": 0},\n",
    "    \"ArrowRight\": {\"active\": 1, \"action\": 1},\n",
    "    \"ArrowUp\": {\"active\": 1, \"action\": 2},\n",
    "    \"ArrowLeft\": {\"active\": 1, \"action\": 3},\n",
    "}\n",
    "\n",
    "await cog.run_web_ui(actions=actions, log_file=\"human.log\", fps=60)"
   ],
   "metadata": {
    "collapsed": false,
    "ExecuteTime": {
     "end_time": "2024-01-15T15:22:57.152462Z",
     "start_time": "2024-01-15T15:22:54.906515Z"
    }
   },
   "id": "d4a8788421ffd8f4"
  },
  {
   "cell_type": "code",
   "execution_count": 13,
   "outputs": [],
   "source": [
    "\n",
    "trial_id = await cog.start_trial(\n",
    "    env_name=\"lunar-teach\",\n",
    "    session_config={\"render\": True},\n",
    "    actor_impls={\n",
    "        \"gym\": \"coltra\",\n",
    "        \"teacher\": \"web_ui\",\n",
    "    },\n",
    ")\n",
    "\n",
    "data = await cog.get_trial_data(trial_id=trial_id)\n"
   ],
   "metadata": {
    "collapsed": false,
    "ExecuteTime": {
     "end_time": "2024-01-15T15:23:24.879012Z",
     "start_time": "2024-01-15T15:22:59.156914Z"
    }
   },
   "id": "94ef1fc6ba14903f"
  },
  {
   "cell_type": "code",
   "execution_count": 14,
   "outputs": [
    {
     "data": {
      "text/plain": "-438.36224"
     },
     "execution_count": 14,
     "metadata": {},
     "output_type": "execute_result"
    }
   ],
   "source": [
    "data[\"gym\"].rewards.sum()"
   ],
   "metadata": {
    "collapsed": false,
    "ExecuteTime": {
     "end_time": "2024-01-15T15:23:28.514466Z",
     "start_time": "2024-01-15T15:23:28.507954Z"
    }
   },
   "id": "cad1754096b0b41b"
  },
  {
   "cell_type": "code",
   "execution_count": 15,
   "outputs": [],
   "source": [
    "await cog.cleanup()"
   ],
   "metadata": {
    "collapsed": false,
    "ExecuteTime": {
     "end_time": "2024-01-15T15:23:33.250140Z",
     "start_time": "2024-01-15T15:23:32.158203Z"
    }
   },
   "id": "d8c9467e9c724d7b"
  }
 ],
 "metadata": {
  "kernelspec": {
   "display_name": "Python 3 (ipykernel)",
   "language": "python",
   "name": "python3"
  },
  "language_info": {
   "codemirror_mode": {
    "name": "ipython",
    "version": 3
   },
   "file_extension": ".py",
   "mimetype": "text/x-python",
   "name": "python",
   "nbconvert_exporter": "python",
   "pygments_lexer": "ipython3",
   "version": "3.10.0"
  }
 },
 "nbformat": 4,
 "nbformat_minor": 5
}
