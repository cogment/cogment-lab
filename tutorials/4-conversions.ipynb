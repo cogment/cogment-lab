{
 "cells": [
  {
   "cell_type": "markdown",
   "source": [
    "# Tutorial 4: Environment conversions"
   ],
   "metadata": {
    "collapsed": false
   },
   "id": "f14fa6766e00cb49"
  },
  {
   "cell_type": "markdown",
   "source": [
    "Cogment Lab supports a few environment conversions out of the box. Those are mainly meant to enable human-AI interactions in situations that are not inherently multiagent."
   ],
   "metadata": {
    "collapsed": false
   },
   "id": "db6e2eb3721ad22c"
  },
  {
   "cell_type": "markdown",
   "source": [
    "## Observer conversion\n",
    "\n",
    "`cogment_lab.envs.conversions.observer`\n",
    "\n",
    "This conversion comes in two varieties: `GymObserverAEC` and `GymObserverParallel`. They use the AEC and Parallel PettingZoo formalisms respectively. \n",
    "\n",
    "The difference is that AEC API goes step by step, making it a bit slower, but it makes it possible to include the RL agent's action in the observer's observation. On the other hand, the Parallel API processes the RL agent's action and the observer's observation in parallel, making it faster, but it does not include the RL agent's action in the observer's observation.\n",
    "\n",
    "In this environment conversion, we take a Gymnasium environment, and turn it into a PettingZoo environment with an extra agent, the observer. The observer does not take any actions, but receives the main agent's observations, and optionally the main agent's actions (in the AEC API).\n",
    "\n",
    "The typical way to use it is with a human web_ui agent as the observer, to watch an agent's performance."
   ],
   "metadata": {
    "collapsed": false
   },
   "id": "148f3389edc8e70c"
  },
  {
   "cell_type": "code",
   "outputs": [],
   "source": [
    "from cogment_lab.actors import RandomActor\n",
    "from cogment_lab.envs.pettingzoo import ParallelEnvironment\n",
    "from cogment_lab.process_manager import Cogment\n",
    "from cogment_lab.utils.runners import process_cleanup\n"
   ],
   "metadata": {
    "collapsed": false,
    "ExecuteTime": {
     "end_time": "2024-01-22T13:53:53.752078Z",
     "start_time": "2024-01-22T13:53:53.351008Z"
    }
   },
   "id": "b13a259120a19c2e",
   "execution_count": 1
  },
  {
   "cell_type": "code",
   "outputs": [
    {
     "name": "stdout",
     "output_type": "stream",
     "text": [
      "Processes terminated successfully.\n"
     ]
    }
   ],
   "source": [
    "process_cleanup()\n",
    "\n",
    "cog = Cogment(log_dir=\"logs/tutorial4\")"
   ],
   "metadata": {
    "collapsed": false,
    "ExecuteTime": {
     "end_time": "2024-01-22T13:54:13.241112Z",
     "start_time": "2024-01-22T13:54:13.152044Z"
    }
   },
   "id": "b809be361711434a",
   "execution_count": 2
  },
  {
   "cell_type": "markdown",
   "source": [
    "GymObserverParallel is just a class implementing CogmentEnv defined inside `cogment_lab`, so we can create it like any other parallel environment."
   ],
   "metadata": {
    "collapsed": false
   },
   "id": "e0cb7e9b262bb82b"
  },
  {
   "cell_type": "code",
   "outputs": [
    {
     "data": {
      "text/plain": "True"
     },
     "execution_count": 3,
     "metadata": {},
     "output_type": "execute_result"
    }
   ],
   "source": [
    "cenv = ParallelEnvironment(\n",
    "  env_path=\"cogment_lab.envs.conversions.observer.GymObserverParallel\",\n",
    "  make_kwargs={\"gym_env_name\": \"MountainCar-v0\"},\n",
    "  render=True\n",
    ")\n",
    "\n",
    "await cog.run_env(cenv, \"mcar-observer\", 9011, log_file=\"env.log\")"
   ],
   "metadata": {
    "collapsed": false,
    "ExecuteTime": {
     "end_time": "2024-01-22T13:54:15.627638Z",
     "start_time": "2024-01-22T13:54:15.193074Z"
    }
   },
   "id": "b6d57bb383f14525",
   "execution_count": 3
  },
  {
   "cell_type": "code",
   "outputs": [
    {
     "data": {
      "text/plain": "True"
     },
     "execution_count": 4,
     "metadata": {},
     "output_type": "execute_result"
    }
   ],
   "source": [
    "actor = RandomActor(cenv.env.action_space(\"gym\"))\n",
    "\n",
    "await cog.run_actor(actor, \"random\", 9021, log_file=\"random.log\")"
   ],
   "metadata": {
    "collapsed": false,
    "ExecuteTime": {
     "end_time": "2024-01-22T13:54:16.810869Z",
     "start_time": "2024-01-22T13:54:16.275690Z"
    }
   },
   "id": "3c562abb539ae7e5",
   "execution_count": 4
  },
  {
   "cell_type": "code",
   "outputs": [
    {
     "data": {
      "text/plain": "True"
     },
     "execution_count": 5,
     "metadata": {},
     "output_type": "execute_result"
    }
   ],
   "source": [
    "MOUNTAIN_CAR_ACTIONS = [\"no-op\", \"ArrowLeft\", \"ArrowRight\"]  # Ignored in the environment\n",
    "\n",
    "await cog.run_web_ui(actions=MOUNTAIN_CAR_ACTIONS, log_file=\"human.log\", fps=60)"
   ],
   "metadata": {
    "collapsed": false,
    "ExecuteTime": {
     "end_time": "2024-01-22T13:54:17.665211Z",
     "start_time": "2024-01-22T13:54:17.235426Z"
    }
   },
   "id": "1be0fc74ddf8e45c",
   "execution_count": 5
  },
  {
   "cell_type": "code",
   "outputs": [],
   "source": [
    "trial_id = await cog.start_trial(\n",
    "    env_name=\"mcar-observer\",\n",
    "    session_config={\"render\": True},\n",
    "    actor_impls={\n",
    "        \"gym\": \"random\",\n",
    "        \"observer\": \"web_ui\",\n",
    "    },\n",
    ")\n",
    "\n",
    "data = await cog.get_trial_data(trial_id)"
   ],
   "metadata": {
    "collapsed": false,
    "ExecuteTime": {
     "end_time": "2024-01-22T13:54:35.550272Z",
     "start_time": "2024-01-22T13:54:18.424445Z"
    }
   },
   "id": "7a5080def14f7a0d",
   "execution_count": 6
  },
  {
   "cell_type": "code",
   "outputs": [],
   "source": [
    "# Make sure to stop the web UI before moving on. You will need to open a new tab in your browser for the next experiment.\n",
    "cog.stop_service(\"web_ui\")  "
   ],
   "metadata": {
    "collapsed": false,
    "ExecuteTime": {
     "end_time": "2024-01-22T13:54:46.517819Z",
     "start_time": "2024-01-22T13:54:45.507624Z"
    }
   },
   "id": "1f09a9f07d9bb5e3",
   "execution_count": 8
  },
  {
   "cell_type": "markdown",
   "source": [
    "## Teacher conversion\n",
    "\n",
    "`cogment_lab.envs.conversions.teacher`\n",
    "\n",
    "Another thing we can do is introduce a teacher agent. Just like the observer, the teacher receives the main agent's observations. Unlike the observer, the teacher can also take actions, overriding those of the main agent. \n",
    "\n",
    "The teacher's action space is always a dictionary of the form `{\"active\": Discrete(2), \"action\": <original action space>}`. The `active` field indicates whether the teacher's action should be used instead of the main agent's action. The `action` field is the action to use if `active` is `1`."
   ],
   "metadata": {
    "collapsed": false
   },
   "id": "ec5d781de8c1ee00"
  },
  {
   "cell_type": "code",
   "outputs": [
    {
     "data": {
      "text/plain": "True"
     },
     "execution_count": 9,
     "metadata": {},
     "output_type": "execute_result"
    }
   ],
   "source": [
    "cenv = ParallelEnvironment(\n",
    "  env_path=\"cogment_lab.envs.conversions.teacher.GymTeacherParallel\",\n",
    "  make_kwargs={\"gym_env_name\": \"MountainCar-v0\"},\n",
    "  render=True\n",
    ")\n",
    "\n",
    "await cog.run_env(cenv, \"mcar-teacher\", 9012, log_file=\"env.log\")"
   ],
   "metadata": {
    "collapsed": false,
    "ExecuteTime": {
     "end_time": "2024-01-22T13:55:00.175657Z",
     "start_time": "2024-01-22T13:54:59.647799Z"
    }
   },
   "id": "b0f14033eee548fe",
   "execution_count": 9
  },
  {
   "cell_type": "markdown",
   "source": [
    "The action map for the teacher is more complex - we need to specify whether the teacher is actively overriding the actions, and if so, what action to take. Remember that `no-op` corresponds to no buttons being pressed."
   ],
   "metadata": {
    "collapsed": false
   },
   "id": "d409a24d7b838c3e"
  },
  {
   "cell_type": "code",
   "outputs": [
    {
     "data": {
      "text/plain": "True"
     },
     "execution_count": 10,
     "metadata": {},
     "output_type": "execute_result"
    }
   ],
   "source": [
    "MOUNTAIN_CAR_ACTIONS = {\n",
    "  \"no-op\": {\"active\": 0, \"action\": 0},\n",
    "  \"ArrowDown\": {\"active\": 1, \"action\": 0},   # Stop\n",
    "  \"ArrowLeft\": {\"active\": 1, \"action\": 1},   # Left\n",
    "  \"ArrowRight\": {\"active\": 1, \"action\": 2},  # Right\n",
    "}\n",
    "\n",
    "await cog.run_web_ui(actions=MOUNTAIN_CAR_ACTIONS, log_file=\"human.log\", fps=60)"
   ],
   "metadata": {
    "collapsed": false,
    "ExecuteTime": {
     "end_time": "2024-01-22T13:55:04.676432Z",
     "start_time": "2024-01-22T13:55:04.143997Z"
    }
   },
   "id": "932b155d30f281bf",
   "execution_count": 10
  },
  {
   "cell_type": "code",
   "outputs": [],
   "source": [
    "trial_id = await cog.start_trial(\n",
    "    env_name=\"mcar-teacher\",\n",
    "    session_config={\"render\": True},\n",
    "    actor_impls={\n",
    "        \"gym\": \"random\",\n",
    "        \"teacher\": \"web_ui\",\n",
    "    },\n",
    ")\n",
    "\n",
    "data = await cog.get_trial_data(trial_id)\n"
   ],
   "metadata": {
    "collapsed": false,
    "ExecuteTime": {
     "end_time": "2024-01-22T13:55:20.823863Z",
     "start_time": "2024-01-22T13:55:07.421119Z"
    }
   },
   "id": "d3581f3ded8c932d",
   "execution_count": 11
  },
  {
   "cell_type": "code",
   "outputs": [
    {
     "data": {
      "text/plain": "{'action': array([0, 0, 0, 0, 0, 0, 0, 0, 0, 0, 0, 1, 1, 1, 1, 1, 1, 1, 1, 1, 1, 1,\n        1, 1, 1, 1, 1, 1, 1, 1, 1, 1, 1, 1, 1, 1, 1, 1, 2, 2, 2, 2, 2, 2,\n        2, 2, 2, 2, 2, 2, 2, 2, 2, 2, 2, 2, 2, 2, 2, 2, 2, 2, 2, 2, 2, 2,\n        2, 2, 2, 2, 2, 2, 2, 2, 2, 1, 1, 1, 1, 1, 1, 1, 1, 1, 1, 1, 1, 1,\n        1, 1, 1, 1, 1, 1, 1, 1, 1, 1, 1, 1, 1, 1, 1, 1, 1, 1, 1, 1, 1, 1,\n        1, 1, 1, 1, 1, 1, 2, 2, 2, 2, 2, 2, 2, 2, 2, 2, 2, 2, 2, 2, 2, 2,\n        2, 2, 2, 2, 2, 2, 2, 2, 2, 2, 2, 2, 2, 2, 2, 2, 2, 2, 2, 2, 2, 2,\n        2, 2, 2, 2, 2, 2, 2, 2, 2, 2, 2, 2, 2, 2, 2, 2, 2, 2, 2, 2, 2, 2,\n        0]),\n 'active': array([0, 0, 0, 0, 0, 0, 0, 0, 0, 0, 0, 1, 1, 1, 1, 1, 1, 1, 1, 1, 1, 1,\n        1, 1, 1, 1, 1, 1, 1, 1, 1, 1, 1, 1, 1, 1, 1, 1, 1, 1, 1, 1, 1, 1,\n        1, 1, 1, 1, 1, 1, 1, 1, 1, 1, 1, 1, 1, 1, 1, 1, 1, 1, 1, 1, 1, 1,\n        1, 1, 1, 1, 1, 1, 1, 1, 1, 1, 1, 1, 1, 1, 1, 1, 1, 1, 1, 1, 1, 1,\n        1, 1, 1, 1, 1, 1, 1, 1, 1, 1, 1, 1, 1, 1, 1, 1, 1, 1, 1, 1, 1, 1,\n        1, 1, 1, 1, 1, 1, 1, 1, 1, 1, 1, 1, 1, 1, 1, 1, 1, 1, 1, 1, 1, 1,\n        1, 1, 1, 1, 1, 1, 1, 1, 1, 1, 1, 1, 1, 1, 1, 1, 1, 1, 1, 1, 1, 1,\n        1, 1, 1, 1, 1, 1, 1, 1, 1, 1, 1, 1, 1, 1, 1, 1, 1, 1, 1, 1, 1, 1,\n        0])}"
     },
     "execution_count": 12,
     "metadata": {},
     "output_type": "execute_result"
    }
   ],
   "source": [
    "data[\"teacher\"].actions"
   ],
   "metadata": {
    "collapsed": false,
    "ExecuteTime": {
     "end_time": "2024-01-22T13:55:24.807409Z",
     "start_time": "2024-01-22T13:55:24.804210Z"
    }
   },
   "id": "4703d0d62d6c2658",
   "execution_count": 12
  },
  {
   "cell_type": "code",
   "outputs": [],
   "source": [
    "await cog.cleanup()"
   ],
   "metadata": {
    "collapsed": false,
    "ExecuteTime": {
     "end_time": "2024-01-22T13:55:27.541130Z",
     "start_time": "2024-01-22T13:55:26.512634Z"
    }
   },
   "id": "59901403b5dd43f",
   "execution_count": 13
  }
 ],
 "metadata": {
  "kernelspec": {
   "display_name": "Python 3",
   "language": "python",
   "name": "python3"
  },
  "language_info": {
   "codemirror_mode": {
    "name": "ipython",
    "version": 2
   },
   "file_extension": ".py",
   "mimetype": "text/x-python",
   "name": "python",
   "nbconvert_exporter": "python",
   "pygments_lexer": "ipython2",
   "version": "2.7.6"
  }
 },
 "nbformat": 4,
 "nbformat_minor": 5
}
