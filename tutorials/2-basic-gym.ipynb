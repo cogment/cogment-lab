{
 "cells": [
  {
   "cell_type": "markdown",
   "source": [
    "# Tutorial 2: Cogment Lab Usage\n",
    "\n",
    "In this tutorial, we introduce basic usage of Cogment Lab. It assumes that you already installed Cogment Lab, and launched the background services via `cogmentlab launch base`. If not, please refer to the first tutorial."
   ],
   "metadata": {
    "collapsed": false
   },
   "id": "a6026528443a67d3"
  },
  {
   "cell_type": "markdown",
   "source": [
    "## Some background\n",
    "\n",
    "Cogment is based on a microservice architecture. This means that each environment and agent runs as a separate service (typically, but not strictly necessarily, in a separate process). These services communicate with each other via gRPC, through the intermediate layer of the Cogment Orchestrator.\n",
    "\n",
    "A basic unit of interaction in Cogment (and by extension, in Cogment Lab) is a *trial*, which contains a single RL episode -- from reset to termination, involving a single environment and one or more agents. While this is a bit restrictive, the upside is that the agents aren't restricted to being RL agents, but can in fact be real humans. This is the main use-case for Cogment Lab: to run RL experiments with human participants. "
   ],
   "metadata": {
    "collapsed": false
   },
   "id": "fe35c8adf2d6cfff"
  },
  {
   "cell_type": "markdown",
   "source": [
    "First, let's import some useful components."
   ],
   "metadata": {
    "collapsed": false
   },
   "id": "f79e0cc2ade4f9cd"
  },
  {
   "cell_type": "code",
   "outputs": [],
   "source": [
    "from cogment_lab import Cogment\n",
    "from cogment_lab.envs import GymEnvironment\n",
    "from cogment_lab.actors import RandomActor, ConstantActor\n",
    "\n",
    "import gymnasium as gym"
   ],
   "metadata": {
    "collapsed": false,
    "ExecuteTime": {
     "end_time": "2024-02-29T12:54:06.130371Z",
     "start_time": "2024-02-29T12:54:05.713664Z"
    }
   },
   "id": "6a8c350e03c758af",
   "execution_count": 1
  },
  {
   "cell_type": "markdown",
   "source": [
    "The central piece of Cogment Lab is the `Cogment` class. It is the main entry point to interact with Cogment itself, and is used to launch environments, actors, and environments."
   ],
   "metadata": {
    "collapsed": false
   },
   "id": "66c45b46370f9a94"
  },
  {
   "cell_type": "code",
   "outputs": [],
   "source": [
    "cog = Cogment(log_dir=\"logs/tutorial2\")"
   ],
   "metadata": {
    "collapsed": false,
    "ExecuteTime": {
     "end_time": "2024-02-29T12:54:06.135368Z",
     "start_time": "2024-02-29T12:54:06.131122Z"
    }
   },
   "id": "ea3f3c96625e869",
   "execution_count": 2
  },
  {
   "cell_type": "markdown",
   "source": [
    "Let's launch an environment. You can use any Gymnasium or PettingZoo environments. \n",
    "In this tutorial, we focus on Gymnasium, and use the `LunarLander-v2` environment."
   ],
   "metadata": {
    "collapsed": false
   },
   "id": "283f7f046ccd0622"
  },
  {
   "cell_type": "markdown",
   "source": [
    "## Environment\n",
    "\n",
    "We create an environment locally by instantiating a subclass of `CogmentEnv`, in this case - GymEnvironment."
   ],
   "metadata": {
    "collapsed": false
   },
   "id": "d61d4210fe1660cf"
  },
  {
   "cell_type": "code",
   "outputs": [],
   "source": [
    "cenv = GymEnvironment(\n",
    "  env_id=\"LunarLander-v2\",  # Environment ID, as registered in Gymnasium\n",
    "  render=True,  # True if we want to ever render the environment; requires pygame\n",
    ")"
   ],
   "metadata": {
    "collapsed": false,
    "ExecuteTime": {
     "end_time": "2024-02-29T12:54:06.212527Z",
     "start_time": "2024-02-29T12:54:06.133954Z"
    }
   },
   "id": "6b13837f79d5419f",
   "execution_count": 3
  },
  {
   "cell_type": "markdown",
   "source": [
    "Given a local environment, we can run it in a subprocess by calling `cog.run_env()`. Currently, all environments have to run in a separate process due to how Cogment works. This is likely to become optional in the future. In any case, the environment has to run as an async coroutine or task. Fortunately, Jupyter notebooks support this out of the box."
   ],
   "metadata": {
    "collapsed": false
   },
   "id": "efdc5e4ec72c6e49"
  },
  {
   "cell_type": "code",
   "outputs": [
    {
     "data": {
      "text/plain": "True"
     },
     "execution_count": 4,
     "metadata": {},
     "output_type": "execute_result"
    }
   ],
   "source": [
    "await cog.run_env(cenv, \n",
    "  env_name=\"lunar\",  # Unique name for the environment \n",
    "  port=9011,  # Port through which the env communicates with Cogment; has to be free and unique\n",
    "  log_file=\"env.log\"  # File to which the environment logs are written\n",
    ")"
   ],
   "metadata": {
    "collapsed": false,
    "ExecuteTime": {
     "end_time": "2024-02-29T12:54:06.653102Z",
     "start_time": "2024-02-29T12:54:06.213422Z"
    }
   },
   "id": "e5e10ff78a0868dc",
   "execution_count": 4
  },
  {
   "cell_type": "markdown",
   "source": [
    "Now we have two copies of the environment in existence. One is the local instance, which we usually don't need to use, but it can be useful e.g. to extract the observation and action spaces:"
   ],
   "metadata": {
    "collapsed": false
   },
   "id": "37e96d70e7916ae8"
  },
  {
   "cell_type": "code",
   "outputs": [
    {
     "name": "stdout",
     "output_type": "stream",
     "text": [
      "Observation space: Box([-1.5       -1.5       -5.        -5.        -3.1415927 -5.\n",
      " -0.        -0.       ], [1.5       1.5       5.        5.        3.1415927 5.        1.\n",
      " 1.       ], (8,), float32)\n",
      "Action space: Discrete(4)\n"
     ]
    }
   ],
   "source": [
    "assert isinstance(cenv.env, gym.Env)\n",
    "obs_space = cenv.env.observation_space\n",
    "act_space = cenv.env.action_space\n",
    "\n",
    "print(f\"Observation space: {obs_space}\")\n",
    "print(f\"Action space: {act_space}\")"
   ],
   "metadata": {
    "collapsed": false,
    "ExecuteTime": {
     "end_time": "2024-02-29T12:54:06.656505Z",
     "start_time": "2024-02-29T12:54:06.652838Z"
    }
   },
   "id": "ca57199fb45e38ef",
   "execution_count": 5
  },
  {
   "cell_type": "markdown",
   "source": [
    "The second copy is the one that runs in the separate process. Once we launched it, we cannot interact with it directly. Instead, it will be automatically handled by Cogment when we start running experiments."
   ],
   "metadata": {
    "collapsed": false
   },
   "id": "2ea8b53bb2d4b862"
  },
  {
   "cell_type": "markdown",
   "source": [
    "## Actor\n",
    "\n",
    "The second thing we need to run an experiment is an actor. Let's start with a simple random actor -- it will just sample actions from the action space."
   ],
   "metadata": {
    "collapsed": false
   },
   "id": "543732e1926b1460"
  },
  {
   "cell_type": "code",
   "outputs": [],
   "source": [
    "actor = RandomActor(action_space=act_space)"
   ],
   "metadata": {
    "collapsed": false,
    "ExecuteTime": {
     "end_time": "2024-02-29T12:54:06.657051Z",
     "start_time": "2024-02-29T12:54:06.655301Z"
    }
   },
   "id": "e886a553e6edfcdd",
   "execution_count": 6
  },
  {
   "cell_type": "markdown",
   "source": [
    "Just like the environment, we'll need to run the actor in a subprocess:"
   ],
   "metadata": {
    "collapsed": false
   },
   "id": "26743200a23d1d0b"
  },
  {
   "cell_type": "code",
   "outputs": [
    {
     "data": {
      "text/plain": "True"
     },
     "execution_count": 7,
     "metadata": {},
     "output_type": "execute_result"
    }
   ],
   "source": [
    "await cog.run_actor(actor, \n",
    "  actor_name=\"random\",  # Unique name for the actor\n",
    "  port=9021,  # Port through which the actor communicates with Cogment; has to be free and unique\n",
    "  log_file=\"actor.log\"  # File to which the actor logs are written\n",
    ")"
   ],
   "metadata": {
    "collapsed": false,
    "ExecuteTime": {
     "end_time": "2024-02-29T12:54:07.804480Z",
     "start_time": "2024-02-29T12:54:06.657829Z"
    }
   },
   "id": "4fdddb4dd638f5fa",
   "execution_count": 7
  },
  {
   "cell_type": "markdown",
   "source": [
    "We can create and use multiple actors -- let's create a second one, which will always output the same action."
   ],
   "metadata": {
    "collapsed": false
   },
   "id": "28d2903e8de7de7b"
  },
  {
   "cell_type": "code",
   "outputs": [
    {
     "data": {
      "text/plain": "True"
     },
     "execution_count": 8,
     "metadata": {},
     "output_type": "execute_result"
    }
   ],
   "source": [
    "actor2 = ConstantActor(action=0)\n",
    "\n",
    "await cog.run_actor(actor2, \n",
    "  actor_name=\"constant\",  # Unique name for the actor\n",
    "  port=9022,  # Port through which the actor communicates with Cogment; has to be free and unique\n",
    "  log_file=\"actor2.log\"  # File to which the actor logs are written\n",
    ")"
   ],
   "metadata": {
    "collapsed": false,
    "ExecuteTime": {
     "end_time": "2024-02-29T12:54:07.854839Z",
     "start_time": "2024-02-29T12:54:07.078852Z"
    }
   },
   "id": "ec5d4e81c7c0ed18",
   "execution_count": 8
  },
  {
   "cell_type": "markdown",
   "source": [
    "## Experiment\n",
    "\n",
    "Now that we have an environment and an actor, we can run an experiment. We do this by calling `cog.run_trial()`. This will ask Cogment to run a single episode with a given environment and an actor. This is done asynchronously, so in more complex scenarios, we can launch an experiment, do something else, and then fetch the data. Here, we'll just get the data immediately."
   ],
   "metadata": {
    "collapsed": false
   },
   "id": "1ddc1bb0895db85c"
  },
  {
   "cell_type": "code",
   "outputs": [],
   "source": [
    "trial_id = await cog.start_trial(\n",
    "    env_name=\"lunar\",  # Name of the environment to use\n",
    "    actor_impls={\n",
    "        \"gym\": \"random\",  # Name of the actor to use. For Gymnasium environments, the key is always \"gym\"\n",
    "    },\n",
    ")\n",
    "data = await cog.get_trial_data(trial_id)"
   ],
   "metadata": {
    "collapsed": false,
    "ExecuteTime": {
     "end_time": "2024-02-29T12:54:07.855183Z",
     "start_time": "2024-02-29T12:54:07.493474Z"
    }
   },
   "id": "c2a1f766961e0b0c",
   "execution_count": 9
  },
  {
   "cell_type": "markdown",
   "source": [
    "The data is a dictionary indexed by the actor name (here, \"gym\"). Each entry is a TrialData object, which contains the typical information we need from an RL experiments:"
   ],
   "metadata": {
    "collapsed": false
   },
   "id": "fd75f08e59fe2590"
  },
  {
   "cell_type": "code",
   "outputs": [
    {
     "name": "stdout",
     "output_type": "stream",
     "text": [
      "Observation shape: (65, 8)\n",
      "Action shape: (65,)\n",
      "Reward shape: (65,)\n",
      "Done shape: (65,)\n",
      "Next observation shape: (65, 8)\n"
     ]
    }
   ],
   "source": [
    "print(f\"Observation shape: {data['gym'].observations.shape}\")\n",
    "print(f\"Action shape: {data['gym'].actions.shape}\")\n",
    "print(f\"Reward shape: {data['gym'].rewards.shape}\")\n",
    "print(f\"Done shape: {data['gym'].done.shape}\")\n",
    "print(f\"Next observation shape: {data['gym'].next_observations.shape}\")"
   ],
   "metadata": {
    "collapsed": false,
    "ExecuteTime": {
     "end_time": "2024-02-29T12:54:07.855518Z",
     "start_time": "2024-02-29T12:54:07.628418Z"
    }
   },
   "id": "15c4c46964bbd015",
   "execution_count": 10
  },
  {
   "cell_type": "markdown",
   "source": [
    "Note that you can customize the fields in `data['gym']` by passing the `fields` argument to `cog.get_trial_data()`."
   ],
   "metadata": {
    "collapsed": false
   },
   "id": "9e48b20432a2dc62"
  },
  {
   "cell_type": "markdown",
   "source": [
    "Since we used a random actor, the actions should be random as well:"
   ],
   "metadata": {
    "collapsed": false
   },
   "id": "ae5eeb412208029e"
  },
  {
   "cell_type": "code",
   "outputs": [
    {
     "name": "stdout",
     "output_type": "stream",
     "text": [
      "[3 3 1 2 0 1 1 0 3 1 2 2 1 1 2 1 0 0 2 3 2 3 3 0 1 3 2 3 2 3 0 1 2 1 0 2 1\n",
      " 1 2 2 2 1 1 0 1 2 2 0 1 0 2 3 1 1 0 3 3 2 1 1 2 2 0 1 0]\n"
     ]
    }
   ],
   "source": [
    "print(data[\"gym\"].actions)"
   ],
   "metadata": {
    "collapsed": false,
    "ExecuteTime": {
     "end_time": "2024-02-29T12:54:07.855826Z",
     "start_time": "2024-02-29T12:54:07.630661Z"
    }
   },
   "id": "e449a5c8c7f1155b",
   "execution_count": 11
  },
  {
   "cell_type": "markdown",
   "source": [
    "We can also use the other agents we defined earlier. Let's run another trial, this time with the constant actor:"
   ],
   "metadata": {
    "collapsed": false
   },
   "id": "a7e205ac71786beb"
  },
  {
   "cell_type": "code",
   "outputs": [],
   "source": [
    "trial_id = await cog.start_trial(\n",
    "    env_name=\"lunar\",\n",
    "    actor_impls={\n",
    "        \"gym\": \"constant\",\n",
    "    },\n",
    ")\n",
    "data = await cog.get_trial_data(trial_id)"
   ],
   "metadata": {
    "collapsed": false,
    "ExecuteTime": {
     "end_time": "2024-02-29T12:54:07.856144Z",
     "start_time": "2024-02-29T12:54:07.632968Z"
    }
   },
   "id": "3c3dd1a86783f0aa",
   "execution_count": 12
  },
  {
   "cell_type": "markdown",
   "source": [
    "As expected, the actions are always the same:"
   ],
   "metadata": {
    "collapsed": false
   },
   "id": "a07f23c011f0362d"
  },
  {
   "cell_type": "code",
   "outputs": [
    {
     "name": "stdout",
     "output_type": "stream",
     "text": [
      "[0 0 0 0 0 0 0 0 0 0 0 0 0 0 0 0 0 0 0 0 0 0 0 0 0 0 0 0 0 0 0 0 0 0 0 0 0\n",
      " 0 0 0 0 0 0 0 0 0 0 0 0 0 0 0]\n"
     ]
    }
   ],
   "source": [
    "print(data[\"gym\"].actions)"
   ],
   "metadata": {
    "collapsed": false,
    "ExecuteTime": {
     "end_time": "2024-02-29T12:54:07.856472Z",
     "start_time": "2024-02-29T12:54:07.669279Z"
    }
   },
   "id": "de075c1897c7ab30",
   "execution_count": 13
  },
  {
   "cell_type": "markdown",
   "source": [
    "## Human experiments\n",
    "\n",
    "Everything we've done so far is pretty basic -- we could have done the same thing with a simple Python script. The real power of Cogment Lab comes from the ability to run experiments with human participants. Let's see how this works."
   ],
   "metadata": {
    "collapsed": false
   },
   "id": "b73061f48f4e8f7a"
  },
  {
   "cell_type": "code",
   "outputs": [
    {
     "data": {
      "text/plain": "True"
     },
     "execution_count": 14,
     "metadata": {},
     "output_type": "execute_result"
    }
   ],
   "source": [
    "await cog.run_web_ui(\n",
    "  app_port=8000,  # Port through which the web UI is accessible\n",
    "  cogment_port=8999,  # Port through which the web UI communicates with Cogment; has to be free and unique\n",
    "  actions=[\n",
    "    \"no-op\",\n",
    "    \"ArrowRight\",\n",
    "    \"ArrowUp\",\n",
    "    \"ArrowLeft\"\n",
    "  ],\n",
    "  log_file=\"human.log\"\n",
    ")"
   ],
   "metadata": {
    "collapsed": false,
    "ExecuteTime": {
     "end_time": "2024-02-29T12:54:08.190822Z",
     "start_time": "2024-02-29T12:54:07.671633Z"
    }
   },
   "id": "4389246fa64ef1cd",
   "execution_count": 14
  },
  {
   "cell_type": "markdown",
   "source": [
    "Let's launch a trial using the web UI as one of the actors:"
   ],
   "metadata": {
    "collapsed": false
   },
   "id": "98544818ce7647de"
  },
  {
   "cell_type": "code",
   "outputs": [],
   "source": [
    "trial_id = await cog.start_trial(\n",
    "    env_name=\"lunar\",\n",
    "    session_config={\"render\": True},  # Tell cogment that we want to use the renders of the environment\n",
    "    actor_impls={\n",
    "        \"gym\": \"web_ui\",\n",
    "    },\n",
    ")\n",
    "\n",
    "data = await cog.get_trial_data(trial_id)"
   ],
   "metadata": {
    "collapsed": false,
    "ExecuteTime": {
     "end_time": "2024-02-29T12:54:27.987726Z",
     "start_time": "2024-02-29T12:54:08.189816Z"
    }
   },
   "id": "f201c3efb8fcaec1",
   "execution_count": 15
  },
  {
   "cell_type": "markdown",
   "source": [
    "You may see that the cell above is still running. This is because Cogment is waiting for the human - you!\n",
    "\n",
    "Open your browser, and go to `http://localhost:8000`. Click the Start button, and then use the arrow keys to try and land the lunar lander.\n",
    "\n",
    "After it inevitably crashes (or lands, if you're good), go back here and check your result below:"
   ],
   "metadata": {
    "collapsed": false
   },
   "id": "c0a20a070f35fb6d"
  },
  {
   "cell_type": "code",
   "outputs": [
    {
     "name": "stdout",
     "output_type": "stream",
     "text": [
      "Your reward is 305.34600830078125\n"
     ]
    }
   ],
   "source": [
    "print(f\"Your reward is {data['gym'].rewards.sum()}\")"
   ],
   "metadata": {
    "collapsed": false,
    "ExecuteTime": {
     "end_time": "2024-02-29T12:54:27.992004Z",
     "start_time": "2024-02-29T12:54:27.988091Z"
    }
   },
   "id": "8a9e4fc3efc77d72",
   "execution_count": 16
  },
  {
   "cell_type": "markdown",
   "source": [
    "## Cleanup\n",
    "\n",
    "Finally, let's clean up the resources we used. This is particularly important if you launched the web UI, as it can be pretty moody when it comes to closing automatically."
   ],
   "metadata": {
    "collapsed": false
   },
   "id": "980a83cd63b110f6"
  },
  {
   "cell_type": "code",
   "outputs": [],
   "source": [
    "await cog.cleanup()"
   ],
   "metadata": {
    "collapsed": false,
    "ExecuteTime": {
     "end_time": "2024-02-29T12:54:29.014194Z",
     "start_time": "2024-02-29T12:54:27.990580Z"
    }
   },
   "id": "4447e862eb37c7c9",
   "execution_count": 17
  }
 ],
 "metadata": {
  "kernelspec": {
   "display_name": "Python 3",
   "language": "python",
   "name": "python3"
  },
  "language_info": {
   "codemirror_mode": {
    "name": "ipython",
    "version": 2
   },
   "file_extension": ".py",
   "mimetype": "text/x-python",
   "name": "python",
   "nbconvert_exporter": "python",
   "pygments_lexer": "ipython2",
   "version": "2.7.6"
  }
 },
 "nbformat": 4,
 "nbformat_minor": 5
}
