{
 "cells": [
  {
   "cell_type": "markdown",
   "source": [
    "# Tutorial 1: CogmentLab Setup"
   ],
   "metadata": {
    "collapsed": false
   },
   "id": "ae9a28d020492288"
  },
  {
   "cell_type": "markdown",
   "source": [
    "Here we cover the setup of all components needed to use CogmentLab.\n",
    "If you already installed CogmentLab, you can skip this tutorial."
   ],
   "metadata": {
    "collapsed": false
   },
   "id": "ec0873abdd989ef1"
  },
  {
   "cell_type": "markdown",
   "source": [
    "## 0. Create a virtual environment\n",
    "\n",
    "While in principle you could install everything to your system Python, that doesn't mean you should. \n",
    "It's a good practice to use a virtual environment to keep your Python installation clean and avoid conflicts between different projects.\n",
    "\n",
    "The standard way to do this is using `venv`: \n",
    "```bash\n",
    "python3 -m venv venv\n",
    "source venv/bin/activate\n",
    "```\n"
   ],
   "metadata": {
    "collapsed": false
   },
   "id": "fc49084655a9ae25"
  },
  {
   "cell_type": "markdown",
   "source": [
    "## 1. Install Cogment Lab\n",
    "\n",
    "Cogment Lab is a Python package that you can install using `pip`:\n",
    "```bash\n",
    "pip install cogment_lab\n",
    "```\n",
    "\n",
    "You can also install it from source:\n",
    "```bash\n",
    "git clone https://github.com/cogment/cogment-lab.git\n",
    "cd cogment-lab\n",
    "pip install -e .\n",
    "```"
   ],
   "metadata": {
    "collapsed": false
   },
   "id": "712fc0aa3a9d2896"
  },
  {
   "cell_type": "markdown",
   "source": [
    "## 2. Install cogment\n",
    "\n",
    "As the name suggests, Cogment Lab is built on top of [Cogment](https://cogment.ai/). \n",
    "\n",
    "The simplest way to install Cogment is to use a command line utility provided by cogmentlab:\n",
    "\n",
    "```bash\n",
    "cogmentlab install cogment\n",
    "```\n",
    "\n",
    "This will install the version 2.19.1 of Cogment. In future releases, you will be able to specify the version you want to install.\n",
    "\n",
    "You can also follow the instructions contained in the [GitHub repository](https://github.com/cogment/cogment) to install any version of cogment that you want. The short version is:\n",
    "\n",
    "```bash\n",
    "curl --silent -L https://raw.githubusercontent.com/cogment/cogment/main/install.sh --output install-cogment.sh\n",
    "chmod +x install-cogment.sh\n",
    "sudo ./install-cogment.sh 2.19.1\n",
    "``` \n",
    "\n",
    "Note that versions 2.20 and 2.21 have a relatively serious bug that prevents them from working properly with Cogment Lab. We currently recommend using the 2.19.1 release, and when 2.22 is released, we will update to that version."
   ],
   "metadata": {
    "collapsed": false
   },
   "id": "bacd7d8e5b6cf39c"
  },
  {
   "cell_type": "markdown",
   "source": [
    "## 2a. (optional) Install additional dependencies\n",
    "\n",
    "There are some libraries that are not strictly necessary to run Cogment Lab, but that are useful for some of the examples.\n",
    "\n",
    "\n",
    "Coltra is a minimalistic RL library that we use in some of the examples for neural networks and optimizing them via PPO. It is not required to use Cogment Lab, but it is useful to have it installed if you want to run the examples.\n",
    "\n",
    "```bash\n",
    "pip install cogment_lab[coltra]\n",
    "```\n",
    "\n",
    "\n",
    "If you plan on contributing to Cogment Lab, or want to run the automated tests, you will need to install some additional dependencies:\n",
    "\n",
    "```bash\n",
    "pip install cogment_lab[dev]\n",
    "```\n"
   ],
   "metadata": {
    "collapsed": false
   },
   "id": "f359bd294df27507"
  },
  {
   "cell_type": "markdown",
   "source": [
    "## 3. (optional) Test your installation\n",
    "\n",
    "If you installed the development dependencies, you can run the automated tests to check that everything is working properly:\n",
    "\n",
    "```bash\n",
    "pytest tests\n",
    "``` \n",
    "\n",
    "If everything is working properly, you should see two passing tests within several seconds. If the tests crash, or take a long time to run, you should check that you have installed all the dependencies correctly.\n"
   ],
   "metadata": {
    "collapsed": false
   },
   "id": "1f0d897b041df1e8"
  },
  {
   "cell_type": "markdown",
   "source": [
    "## 4. Launch background services\n",
    "\n",
    "To use Cogment Lab, you need some services from Cogment running in the background, namely the orchestrator and the trial datastore.\n",
    "\n",
    "The simplest way to launch them is to use the `cogmentlab` command line utility that you should have access to when you're in the virtual environment:\n",
    "\n",
    "```bash\n",
    "cogmentlab launch base\n",
    "```\n",
    "\n",
    "Run this in a separate terminal, and leave it running in the background while you use Cogment Lab. You can stop it with `Ctrl+C` when you're done."
   ],
   "metadata": {
    "collapsed": false
   },
   "id": "40578ec9cbef6369"
  },
  {
   "cell_type": "markdown",
   "source": [
    "## 5. You're ready to go!\n",
    "\n",
    "Check out the other tutorials to learn how to use Cogment Lab."
   ],
   "metadata": {
    "collapsed": false
   },
   "id": "f46589ca0b52465"
  }
 ],
 "metadata": {
  "kernelspec": {
   "display_name": "Python 3",
   "language": "python",
   "name": "python3"
  },
  "language_info": {
   "codemirror_mode": {
    "name": "ipython",
    "version": 2
   },
   "file_extension": ".py",
   "mimetype": "text/x-python",
   "name": "python",
   "nbconvert_exporter": "python",
   "pygments_lexer": "ipython2",
   "version": "2.7.6"
  }
 },
 "nbformat": 4,
 "nbformat_minor": 5
}
